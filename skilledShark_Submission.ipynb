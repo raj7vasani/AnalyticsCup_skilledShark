{
 "cells": [
  {
   "cell_type": "code",
   "execution_count": 193,
   "id": "initial_id",
   "metadata": {
    "collapsed": true,
    "ExecuteTime": {
     "end_time": "2024-01-16T22:23:07.037823Z",
     "start_time": "2024-01-16T22:23:06.846523Z"
    }
   },
   "outputs": [],
   "source": [
    "import pandas as pd\n",
    "import numpy as np\n",
    "\n",
    "import matplotlib.pyplot as plt\n",
    "import seaborn as sns\n",
    "\n",
    "# Note: The following do not work with Python 3.12\n",
    "import shap\n",
    "# from ydata_profiling import ProfileReport\n",
    "import sweetviz as sv"
   ]
  },
  {
   "cell_type": "markdown",
   "source": [
    "Reproducibility:"
   ],
   "metadata": {
    "collapsed": false
   },
   "id": "b4e58ef72dfbe19d"
  },
  {
   "cell_type": "code",
   "execution_count": 194,
   "outputs": [],
   "source": [
    "seed = 2024\n",
    "\n",
    "# pandas, statsmodels, matplotlib and y_data_profiling rely on numpy's random generator, and thus, we need to set the seed in numpy\n",
    "np.random.seed(seed)"
   ],
   "metadata": {
    "collapsed": false,
    "ExecuteTime": {
     "end_time": "2024-01-16T22:23:07.046350Z",
     "start_time": "2024-01-16T22:23:07.040084Z"
    }
   },
   "id": "1046a21be556037"
  },
  {
   "cell_type": "code",
   "execution_count": 195,
   "outputs": [
    {
     "data": {
      "text/plain": "         AuthorId        Diet  Age\n0       10000120E  Vegetarian   46\n1        1000014D       Vegan   18\n2        1000015A  Vegetarian   58\n3        1000016E  Vegetarian   32\n4        1000027E       Vegan   61\n...           ...         ...  ...\n271902    999917E  Vegetarian   28\n271903    999936C    Omnivore   22\n271904     99993D  Vegetarian   58\n271905     99994A  Vegetarian   18\n271906    999991A  Vegetarian   21\n\n[271907 rows x 3 columns]",
      "text/html": "<div>\n<style scoped>\n    .dataframe tbody tr th:only-of-type {\n        vertical-align: middle;\n    }\n\n    .dataframe tbody tr th {\n        vertical-align: top;\n    }\n\n    .dataframe thead th {\n        text-align: right;\n    }\n</style>\n<table border=\"1\" class=\"dataframe\">\n  <thead>\n    <tr style=\"text-align: right;\">\n      <th></th>\n      <th>AuthorId</th>\n      <th>Diet</th>\n      <th>Age</th>\n    </tr>\n  </thead>\n  <tbody>\n    <tr>\n      <th>0</th>\n      <td>10000120E</td>\n      <td>Vegetarian</td>\n      <td>46</td>\n    </tr>\n    <tr>\n      <th>1</th>\n      <td>1000014D</td>\n      <td>Vegan</td>\n      <td>18</td>\n    </tr>\n    <tr>\n      <th>2</th>\n      <td>1000015A</td>\n      <td>Vegetarian</td>\n      <td>58</td>\n    </tr>\n    <tr>\n      <th>3</th>\n      <td>1000016E</td>\n      <td>Vegetarian</td>\n      <td>32</td>\n    </tr>\n    <tr>\n      <th>4</th>\n      <td>1000027E</td>\n      <td>Vegan</td>\n      <td>61</td>\n    </tr>\n    <tr>\n      <th>...</th>\n      <td>...</td>\n      <td>...</td>\n      <td>...</td>\n    </tr>\n    <tr>\n      <th>271902</th>\n      <td>999917E</td>\n      <td>Vegetarian</td>\n      <td>28</td>\n    </tr>\n    <tr>\n      <th>271903</th>\n      <td>999936C</td>\n      <td>Omnivore</td>\n      <td>22</td>\n    </tr>\n    <tr>\n      <th>271904</th>\n      <td>99993D</td>\n      <td>Vegetarian</td>\n      <td>58</td>\n    </tr>\n    <tr>\n      <th>271905</th>\n      <td>99994A</td>\n      <td>Vegetarian</td>\n      <td>18</td>\n    </tr>\n    <tr>\n      <th>271906</th>\n      <td>999991A</td>\n      <td>Vegetarian</td>\n      <td>21</td>\n    </tr>\n  </tbody>\n</table>\n<p>271907 rows × 3 columns</p>\n</div>"
     },
     "execution_count": 195,
     "metadata": {},
     "output_type": "execute_result"
    }
   ],
   "source": [
    "diet = pd.read_csv('diet.csv', low_memory=False)\n",
    "diet['Diet'] = diet['Diet'].astype('category')\n",
    "diet"
   ],
   "metadata": {
    "collapsed": false,
    "ExecuteTime": {
     "end_time": "2024-01-16T22:23:07.355937Z",
     "start_time": "2024-01-16T22:23:07.047958Z"
    }
   },
   "id": "945414f010f9c610"
  },
  {
   "cell_type": "code",
   "outputs": [
    {
     "name": "stdout",
     "output_type": "stream",
     "text": [
      "The number of author ids is: 271907\n",
      "The number of unique author ids is: 271907\n"
     ]
    }
   ],
   "source": [
    "user_count= diet['AuthorId']\n",
    "print(f'The number of author ids is: {user_count.size}')\n",
    "print(f'The number of unique author ids is: {user_count.unique().size}')"
   ],
   "metadata": {
    "collapsed": false,
    "ExecuteTime": {
     "end_time": "2024-01-16T22:23:07.441250Z",
     "start_time": "2024-01-16T22:23:07.259698Z"
    }
   },
   "id": "94617de5539d6697",
   "execution_count": 196
  },
  {
   "cell_type": "code",
   "outputs": [
    {
     "data": {
      "text/plain": "           AuthorId  RecipeId          Time  HighCalories  HighProtein  \\\n0       2001012259B     73440   1799.950949           0.0  Indifferent   \n1           437641B    365718   4201.820980           0.0          Yes   \n2       1803340263D    141757   6299.861496           0.0  Indifferent   \n3           854048B    280351  19801.365796           0.0          Yes   \n4          2277685E    180505   5400.093457           0.0  Indifferent   \n...             ...       ...           ...           ...          ...   \n140190      163793B     78171   1560.649725           0.0  Indifferent   \n140191       33888B    333262   1502.011466           1.0  Indifferent   \n140192      401942C     49200   5999.274269           0.0  Indifferent   \n140193      346866B    214815    899.523513           0.0          Yes   \n140194     1786859E    117923   7199.637837           1.0  Indifferent   \n\n        LowFat     LowSugar  HighFiber  \n0            0            0          0  \n1            0  Indifferent          1  \n2            1  Indifferent          0  \n3            1            0          1  \n4            0            0          0  \n...        ...          ...        ...  \n140190       0            0          1  \n140191       1            0          0  \n140192       0            0          1  \n140193       1  Indifferent          1  \n140194       0            0          1  \n\n[140195 rows x 8 columns]",
      "text/html": "<div>\n<style scoped>\n    .dataframe tbody tr th:only-of-type {\n        vertical-align: middle;\n    }\n\n    .dataframe tbody tr th {\n        vertical-align: top;\n    }\n\n    .dataframe thead th {\n        text-align: right;\n    }\n</style>\n<table border=\"1\" class=\"dataframe\">\n  <thead>\n    <tr style=\"text-align: right;\">\n      <th></th>\n      <th>AuthorId</th>\n      <th>RecipeId</th>\n      <th>Time</th>\n      <th>HighCalories</th>\n      <th>HighProtein</th>\n      <th>LowFat</th>\n      <th>LowSugar</th>\n      <th>HighFiber</th>\n    </tr>\n  </thead>\n  <tbody>\n    <tr>\n      <th>0</th>\n      <td>2001012259B</td>\n      <td>73440</td>\n      <td>1799.950949</td>\n      <td>0.0</td>\n      <td>Indifferent</td>\n      <td>0</td>\n      <td>0</td>\n      <td>0</td>\n    </tr>\n    <tr>\n      <th>1</th>\n      <td>437641B</td>\n      <td>365718</td>\n      <td>4201.820980</td>\n      <td>0.0</td>\n      <td>Yes</td>\n      <td>0</td>\n      <td>Indifferent</td>\n      <td>1</td>\n    </tr>\n    <tr>\n      <th>2</th>\n      <td>1803340263D</td>\n      <td>141757</td>\n      <td>6299.861496</td>\n      <td>0.0</td>\n      <td>Indifferent</td>\n      <td>1</td>\n      <td>Indifferent</td>\n      <td>0</td>\n    </tr>\n    <tr>\n      <th>3</th>\n      <td>854048B</td>\n      <td>280351</td>\n      <td>19801.365796</td>\n      <td>0.0</td>\n      <td>Yes</td>\n      <td>1</td>\n      <td>0</td>\n      <td>1</td>\n    </tr>\n    <tr>\n      <th>4</th>\n      <td>2277685E</td>\n      <td>180505</td>\n      <td>5400.093457</td>\n      <td>0.0</td>\n      <td>Indifferent</td>\n      <td>0</td>\n      <td>0</td>\n      <td>0</td>\n    </tr>\n    <tr>\n      <th>...</th>\n      <td>...</td>\n      <td>...</td>\n      <td>...</td>\n      <td>...</td>\n      <td>...</td>\n      <td>...</td>\n      <td>...</td>\n      <td>...</td>\n    </tr>\n    <tr>\n      <th>140190</th>\n      <td>163793B</td>\n      <td>78171</td>\n      <td>1560.649725</td>\n      <td>0.0</td>\n      <td>Indifferent</td>\n      <td>0</td>\n      <td>0</td>\n      <td>1</td>\n    </tr>\n    <tr>\n      <th>140191</th>\n      <td>33888B</td>\n      <td>333262</td>\n      <td>1502.011466</td>\n      <td>1.0</td>\n      <td>Indifferent</td>\n      <td>1</td>\n      <td>0</td>\n      <td>0</td>\n    </tr>\n    <tr>\n      <th>140192</th>\n      <td>401942C</td>\n      <td>49200</td>\n      <td>5999.274269</td>\n      <td>0.0</td>\n      <td>Indifferent</td>\n      <td>0</td>\n      <td>0</td>\n      <td>1</td>\n    </tr>\n    <tr>\n      <th>140193</th>\n      <td>346866B</td>\n      <td>214815</td>\n      <td>899.523513</td>\n      <td>0.0</td>\n      <td>Yes</td>\n      <td>1</td>\n      <td>Indifferent</td>\n      <td>1</td>\n    </tr>\n    <tr>\n      <th>140194</th>\n      <td>1786859E</td>\n      <td>117923</td>\n      <td>7199.637837</td>\n      <td>1.0</td>\n      <td>Indifferent</td>\n      <td>0</td>\n      <td>0</td>\n      <td>1</td>\n    </tr>\n  </tbody>\n</table>\n<p>140195 rows × 8 columns</p>\n</div>"
     },
     "execution_count": 197,
     "metadata": {},
     "output_type": "execute_result"
    }
   ],
   "source": [
    "requests = pd.read_csv('requests.csv', low_memory=False)\n",
    "requests['HighProtein'] = requests['HighProtein'].astype('category')\n",
    "requests['LowSugar'] = requests['LowSugar'].astype('category')\n",
    "requests"
   ],
   "metadata": {
    "collapsed": false,
    "ExecuteTime": {
     "end_time": "2024-01-16T22:23:07.629590Z",
     "start_time": "2024-01-16T22:23:07.293402Z"
    }
   },
   "id": "fc76e88ae8ccd753",
   "execution_count": 197
  },
  {
   "cell_type": "code",
   "execution_count": 198,
   "outputs": [
    {
     "name": "stdout",
     "output_type": "stream",
     "text": [
      "Author Id \n",
      "The number of author ids is: 140195\n",
      "The number of unique author ids is: 49348\n",
      "Author Diff: 90847\n",
      "Recipe Id \n",
      "The number of recipe ids is: 140195\n",
      "The number of unique recipe ids is: 75604\n",
      "Recipe Diff: 64591\n"
     ]
    }
   ],
   "source": [
    "user_count= requests['AuthorId']\n",
    "print(\"Author Id \")\n",
    "print(f'The number of author ids is: {user_count.size}')\n",
    "print(f'The number of unique author ids is: {user_count.unique().size}')\n",
    "print(f'Author Diff: {user_count.size-user_count.unique().size}')\n",
    "recipe_count= requests['RecipeId']\n",
    "print(\"Recipe Id \")\n",
    "print(f'The number of recipe ids is: {recipe_count.size}')\n",
    "print(f'The number of unique recipe ids is: {recipe_count.unique().size}')\n",
    "print(f'Recipe Diff: {recipe_count.size-recipe_count.unique().size}')"
   ],
   "metadata": {
    "collapsed": false,
    "ExecuteTime": {
     "end_time": "2024-01-16T22:23:07.670687Z",
     "start_time": "2024-01-16T22:23:07.488Z"
    }
   },
   "id": "5c77ab769db421af"
  },
  {
   "cell_type": "code",
   "outputs": [
    {
     "data": {
      "text/plain": "           AuthorId  RecipeId  Rating   Like  TestSetId\n0          2492191A     33671     2.0    NaN        1.0\n1       2002019979A     92647     2.0    NaN        2.0\n2           408594E    161770     NaN    NaN        3.0\n3       2001625557E    108231     2.0    NaN        4.0\n4       2001427116E     71109     NaN    NaN        5.0\n...             ...       ...     ...    ...        ...\n140190      999595E    338070     2.0  False        NaN\n140191      999774A     29002     2.0  False        NaN\n140192      999774A    159252     NaN  False        NaN\n140193      999774A      1171     2.0   True        NaN\n140194      999917E    169413     2.0  False        NaN\n\n[140195 rows x 5 columns]",
      "text/html": "<div>\n<style scoped>\n    .dataframe tbody tr th:only-of-type {\n        vertical-align: middle;\n    }\n\n    .dataframe tbody tr th {\n        vertical-align: top;\n    }\n\n    .dataframe thead th {\n        text-align: right;\n    }\n</style>\n<table border=\"1\" class=\"dataframe\">\n  <thead>\n    <tr style=\"text-align: right;\">\n      <th></th>\n      <th>AuthorId</th>\n      <th>RecipeId</th>\n      <th>Rating</th>\n      <th>Like</th>\n      <th>TestSetId</th>\n    </tr>\n  </thead>\n  <tbody>\n    <tr>\n      <th>0</th>\n      <td>2492191A</td>\n      <td>33671</td>\n      <td>2.0</td>\n      <td>NaN</td>\n      <td>1.0</td>\n    </tr>\n    <tr>\n      <th>1</th>\n      <td>2002019979A</td>\n      <td>92647</td>\n      <td>2.0</td>\n      <td>NaN</td>\n      <td>2.0</td>\n    </tr>\n    <tr>\n      <th>2</th>\n      <td>408594E</td>\n      <td>161770</td>\n      <td>NaN</td>\n      <td>NaN</td>\n      <td>3.0</td>\n    </tr>\n    <tr>\n      <th>3</th>\n      <td>2001625557E</td>\n      <td>108231</td>\n      <td>2.0</td>\n      <td>NaN</td>\n      <td>4.0</td>\n    </tr>\n    <tr>\n      <th>4</th>\n      <td>2001427116E</td>\n      <td>71109</td>\n      <td>NaN</td>\n      <td>NaN</td>\n      <td>5.0</td>\n    </tr>\n    <tr>\n      <th>...</th>\n      <td>...</td>\n      <td>...</td>\n      <td>...</td>\n      <td>...</td>\n      <td>...</td>\n    </tr>\n    <tr>\n      <th>140190</th>\n      <td>999595E</td>\n      <td>338070</td>\n      <td>2.0</td>\n      <td>False</td>\n      <td>NaN</td>\n    </tr>\n    <tr>\n      <th>140191</th>\n      <td>999774A</td>\n      <td>29002</td>\n      <td>2.0</td>\n      <td>False</td>\n      <td>NaN</td>\n    </tr>\n    <tr>\n      <th>140192</th>\n      <td>999774A</td>\n      <td>159252</td>\n      <td>NaN</td>\n      <td>False</td>\n      <td>NaN</td>\n    </tr>\n    <tr>\n      <th>140193</th>\n      <td>999774A</td>\n      <td>1171</td>\n      <td>2.0</td>\n      <td>True</td>\n      <td>NaN</td>\n    </tr>\n    <tr>\n      <th>140194</th>\n      <td>999917E</td>\n      <td>169413</td>\n      <td>2.0</td>\n      <td>False</td>\n      <td>NaN</td>\n    </tr>\n  </tbody>\n</table>\n<p>140195 rows × 5 columns</p>\n</div>"
     },
     "execution_count": 199,
     "metadata": {},
     "output_type": "execute_result"
    }
   ],
   "source": [
    "reviews = pd.read_csv('reviews.csv', low_memory=False)\n",
    "reviews"
   ],
   "metadata": {
    "collapsed": false,
    "ExecuteTime": {
     "end_time": "2024-01-16T22:23:07.745479Z",
     "start_time": "2024-01-16T22:23:07.526133Z"
    }
   },
   "id": "bec20eb4f25cd1d0",
   "execution_count": 199
  },
  {
   "cell_type": "code",
   "execution_count": 200,
   "outputs": [
    {
     "name": "stdout",
     "output_type": "stream",
     "text": [
      "Author Id \n",
      "The number of author ids is: 140195\n",
      "The number of unique author ids is: 49348\n",
      "Author Diff: 90847\n",
      "Recipe Id \n",
      "The number of recipe ids is: 140195\n",
      "The number of unique recipe ids is: 75604\n",
      "Recipe Diff: 64591\n"
     ]
    }
   ],
   "source": [
    "user1_count= reviews['AuthorId']\n",
    "print(\"Author Id \")\n",
    "print(f'The number of author ids is: {user1_count.size}')\n",
    "print(f'The number of unique author ids is: {user1_count.unique().size}')\n",
    "print(f'Author Diff: {user_count.size-user_count.unique().size}')\n",
    "recipe1_count= reviews['RecipeId']\n",
    "print(\"Recipe Id \")\n",
    "print(f'The number of recipe ids is: {recipe1_count.size}')\n",
    "print(f'The number of unique recipe ids is: {recipe1_count.unique().size}')\n",
    "print(f'Recipe Diff: {recipe_count.size-recipe_count.unique().size}')"
   ],
   "metadata": {
    "collapsed": false,
    "ExecuteTime": {
     "end_time": "2024-01-16T22:23:07.818177Z",
     "start_time": "2024-01-16T22:23:07.636592Z"
    }
   },
   "id": "5c37873ec50ba36f"
  },
  {
   "cell_type": "code",
   "outputs": [
    {
     "data": {
      "text/plain": "       RecipeId                                            Name  CookTime  \\\n0         73440                    Bow Ties With Broccoli Pesto         0   \n1        365718                             Cashew-chutney Rice      3600   \n2        141757        Copycat Taco Bell Nacho Fries BellGrande      3600   \n3        280351        Slow Cooker Jalapeno Cheddar Cheese Soup     18000   \n4        180505                 Cool & Crisp Citrus Chiffon Pie      3600   \n...         ...                                             ...       ...   \n75599    253577  Frijoles Negros- Crock Pot Mexican Black Beans     43200   \n75600    267827                                  Moose Moussaka      3600   \n75601    266983        Cantonese Pepper Steak for Two (Or More)      1800   \n75602    253739                            Coconut Cream Cooler       300   \n75603     78171                                 Cheater Risotto       960   \n\n       PrepTime RecipeCategory  \\\n0          1800          Other   \n1           600          Other   \n2          2700          Other   \n3          1800          Other   \n4          1800          Other   \n...         ...            ...   \n75599     28800          Other   \n75600      2700          Other   \n75601       900          Other   \n75602       120          Other   \n75603       600          Other   \n\n                              RecipeIngredientQuantities  \\\n0      c(\"\\\"6\\\"\", \"\\\"2\\\"\", \"\\\"1 1/2\\\"\", \"\\\"1/4\\\"\", \"\\...   \n1      c(\"\\\"1\\\"\", \"\\\"3/4\\\"\", \"\\\"6\\\"\", \"\\\"5\\\"\", \"\\\"2\\\"...   \n2      c(\"\\\"3\\\"\", \"\\\"1/2\\\"\", \"\\\"1\\\"\", \"\\\"1\\\"\", \"\\\"3\\\"...   \n3      c(\"\\\"2\\\"\", \"\\\"1\\\"\", \"\\\"2\\\"\", \"\\\"2\\\"\", \"\\\"1\\\"\",...   \n4      c(\"\\\"1\\\"\", \"\\\"1/4\\\"\", \"\\\"1/2\\\"\", \"\\\"1/2\\\"\", \"\\...   \n...                                                  ...   \n75599  c(\"\\\"2\\\"\", \"\\\"6 -8\\\"\", \"\\\"5\\\"\", \"\\\"1/2\\\"\", \"\\\"...   \n75600  c(\"\\\"1\\\"\", \"\\\"6\\\"\", \"\\\"2\\\"\", \"\\\"2\\\"\", \"\\\"1/2\\\"...   \n75601  c(\"\\\"1/2\\\"\", \"\\\"1\\\"\", \"\\\"1/8\\\"\", \"\\\"1/8\\\"\", \"\\...   \n75602  c(\"\\\"1\\\"\", \"\\\"1\\\"\", \"\\\"1\\\"\", \"\\\"7 1/2\\\"\", \"\\\"1...   \n75603  c(\"\\\"1\\\"\", \"\\\"3/4\\\"\", \"\\\"4\\\"\", \"\\\"1\\\"\", \"\\\"1\\\"...   \n\n                                   RecipeIngredientParts  Calories  \\\n0      c(\"\\\"hazelnuts\\\"\", \"\\\"broccoli florets\\\"\", \"\\\"...     241.3   \n1      c(\"\\\"celery\\\"\", \"\\\"onion\\\"\", \"\\\"butter\\\"\", \"\\\"...     370.8   \n2      c(\"\\\"Copycat Taco Bell Seasoned Beef\\\"\", \"\\\"ye...     377.6   \n3      c(\"\\\"unsalted butter\\\"\", \"\\\"yellow onion\\\"\", \"...     282.8   \n4      c(\"\\\"unflavored gelatin\\\"\", \"\\\"water\\\"\", \"\\\"su...     257.5   \n...                                                  ...       ...   \n75599  c(\"\\\"black beans\\\"\", \"\\\"water\\\"\", \"\\\"bay leave...     121.5   \n75600  c(\"\\\"onion\\\"\", \"\\\"garlic cloves\\\"\", \"\\\"olive o...     652.2   \n75601  c(\"\\\"top round steak\\\"\", \"\\\"cornstarch\\\"\", \"\\\"...     223.9   \n75602             c(\"\\\"cream of coconut\\\"\", \"\\\"water\\\"\")    2229.8   \n75603  c(\"\\\"arborio rice\\\"\", \"\\\"white wine\\\"\", \"\\\"gar...     654.1   \n\n       FatContent  SaturatedFatContent  CholesterolContent  SodiumContent  \\\n0            10.1                  1.2                 0.0           13.1   \n1            17.5                  7.2                22.9          553.3   \n2            20.9                 10.5                45.7         1501.8   \n3            16.5                 10.3                50.5          630.2   \n4             8.6                  2.4               110.7          160.9   \n...           ...                  ...                 ...            ...   \n75599         0.5                  0.1                 0.0         1175.1   \n75600        25.8                 10.7               197.9          435.5   \n75601         9.2                  3.6                78.3          725.9   \n75602        80.3                 69.3                 0.0          294.7   \n75603        13.8                  6.9                34.6         1114.0   \n\n       CarbohydrateContent  FiberContent  SugarContent  ProteinContent  \\\n0                     31.8           2.3           1.4             6.7   \n1                     44.3           1.6           2.2             9.4   \n2                     36.6           3.8           6.1            12.9   \n3                     22.8           2.3           2.7            11.7   \n4                     39.8           0.4          30.2             6.3   \n...                    ...           ...           ...             ...   \n75599                 22.2           7.8           0.6             7.9   \n75600                 51.9           7.5           7.2            50.1   \n75601                  7.3           1.1           1.7            26.7   \n75602                369.0          15.7         317.9            26.7   \n75603                 92.2           3.9           4.2            21.8   \n\n       RecipeServings RecipeYield  \n0                 9.0         NaN  \n1                 8.0         NaN  \n2                 8.0         NaN  \n3                 6.0         NaN  \n4                 6.0         NaN  \n...               ...         ...  \n75599             NaN         NaN  \n75600             NaN         NaN  \n75601             2.0         NaN  \n75602             NaN    1 gallon  \n75603             NaN  2 1/2 cups  \n\n[75604 rows x 18 columns]",
      "text/html": "<div>\n<style scoped>\n    .dataframe tbody tr th:only-of-type {\n        vertical-align: middle;\n    }\n\n    .dataframe tbody tr th {\n        vertical-align: top;\n    }\n\n    .dataframe thead th {\n        text-align: right;\n    }\n</style>\n<table border=\"1\" class=\"dataframe\">\n  <thead>\n    <tr style=\"text-align: right;\">\n      <th></th>\n      <th>RecipeId</th>\n      <th>Name</th>\n      <th>CookTime</th>\n      <th>PrepTime</th>\n      <th>RecipeCategory</th>\n      <th>RecipeIngredientQuantities</th>\n      <th>RecipeIngredientParts</th>\n      <th>Calories</th>\n      <th>FatContent</th>\n      <th>SaturatedFatContent</th>\n      <th>CholesterolContent</th>\n      <th>SodiumContent</th>\n      <th>CarbohydrateContent</th>\n      <th>FiberContent</th>\n      <th>SugarContent</th>\n      <th>ProteinContent</th>\n      <th>RecipeServings</th>\n      <th>RecipeYield</th>\n    </tr>\n  </thead>\n  <tbody>\n    <tr>\n      <th>0</th>\n      <td>73440</td>\n      <td>Bow Ties With Broccoli Pesto</td>\n      <td>0</td>\n      <td>1800</td>\n      <td>Other</td>\n      <td>c(\"\\\"6\\\"\", \"\\\"2\\\"\", \"\\\"1 1/2\\\"\", \"\\\"1/4\\\"\", \"\\...</td>\n      <td>c(\"\\\"hazelnuts\\\"\", \"\\\"broccoli florets\\\"\", \"\\\"...</td>\n      <td>241.3</td>\n      <td>10.1</td>\n      <td>1.2</td>\n      <td>0.0</td>\n      <td>13.1</td>\n      <td>31.8</td>\n      <td>2.3</td>\n      <td>1.4</td>\n      <td>6.7</td>\n      <td>9.0</td>\n      <td>NaN</td>\n    </tr>\n    <tr>\n      <th>1</th>\n      <td>365718</td>\n      <td>Cashew-chutney Rice</td>\n      <td>3600</td>\n      <td>600</td>\n      <td>Other</td>\n      <td>c(\"\\\"1\\\"\", \"\\\"3/4\\\"\", \"\\\"6\\\"\", \"\\\"5\\\"\", \"\\\"2\\\"...</td>\n      <td>c(\"\\\"celery\\\"\", \"\\\"onion\\\"\", \"\\\"butter\\\"\", \"\\\"...</td>\n      <td>370.8</td>\n      <td>17.5</td>\n      <td>7.2</td>\n      <td>22.9</td>\n      <td>553.3</td>\n      <td>44.3</td>\n      <td>1.6</td>\n      <td>2.2</td>\n      <td>9.4</td>\n      <td>8.0</td>\n      <td>NaN</td>\n    </tr>\n    <tr>\n      <th>2</th>\n      <td>141757</td>\n      <td>Copycat Taco Bell Nacho Fries BellGrande</td>\n      <td>3600</td>\n      <td>2700</td>\n      <td>Other</td>\n      <td>c(\"\\\"3\\\"\", \"\\\"1/2\\\"\", \"\\\"1\\\"\", \"\\\"1\\\"\", \"\\\"3\\\"...</td>\n      <td>c(\"\\\"Copycat Taco Bell Seasoned Beef\\\"\", \"\\\"ye...</td>\n      <td>377.6</td>\n      <td>20.9</td>\n      <td>10.5</td>\n      <td>45.7</td>\n      <td>1501.8</td>\n      <td>36.6</td>\n      <td>3.8</td>\n      <td>6.1</td>\n      <td>12.9</td>\n      <td>8.0</td>\n      <td>NaN</td>\n    </tr>\n    <tr>\n      <th>3</th>\n      <td>280351</td>\n      <td>Slow Cooker Jalapeno Cheddar Cheese Soup</td>\n      <td>18000</td>\n      <td>1800</td>\n      <td>Other</td>\n      <td>c(\"\\\"2\\\"\", \"\\\"1\\\"\", \"\\\"2\\\"\", \"\\\"2\\\"\", \"\\\"1\\\"\",...</td>\n      <td>c(\"\\\"unsalted butter\\\"\", \"\\\"yellow onion\\\"\", \"...</td>\n      <td>282.8</td>\n      <td>16.5</td>\n      <td>10.3</td>\n      <td>50.5</td>\n      <td>630.2</td>\n      <td>22.8</td>\n      <td>2.3</td>\n      <td>2.7</td>\n      <td>11.7</td>\n      <td>6.0</td>\n      <td>NaN</td>\n    </tr>\n    <tr>\n      <th>4</th>\n      <td>180505</td>\n      <td>Cool &amp; Crisp Citrus Chiffon Pie</td>\n      <td>3600</td>\n      <td>1800</td>\n      <td>Other</td>\n      <td>c(\"\\\"1\\\"\", \"\\\"1/4\\\"\", \"\\\"1/2\\\"\", \"\\\"1/2\\\"\", \"\\...</td>\n      <td>c(\"\\\"unflavored gelatin\\\"\", \"\\\"water\\\"\", \"\\\"su...</td>\n      <td>257.5</td>\n      <td>8.6</td>\n      <td>2.4</td>\n      <td>110.7</td>\n      <td>160.9</td>\n      <td>39.8</td>\n      <td>0.4</td>\n      <td>30.2</td>\n      <td>6.3</td>\n      <td>6.0</td>\n      <td>NaN</td>\n    </tr>\n    <tr>\n      <th>...</th>\n      <td>...</td>\n      <td>...</td>\n      <td>...</td>\n      <td>...</td>\n      <td>...</td>\n      <td>...</td>\n      <td>...</td>\n      <td>...</td>\n      <td>...</td>\n      <td>...</td>\n      <td>...</td>\n      <td>...</td>\n      <td>...</td>\n      <td>...</td>\n      <td>...</td>\n      <td>...</td>\n      <td>...</td>\n      <td>...</td>\n    </tr>\n    <tr>\n      <th>75599</th>\n      <td>253577</td>\n      <td>Frijoles Negros- Crock Pot Mexican Black Beans</td>\n      <td>43200</td>\n      <td>28800</td>\n      <td>Other</td>\n      <td>c(\"\\\"2\\\"\", \"\\\"6 -8\\\"\", \"\\\"5\\\"\", \"\\\"1/2\\\"\", \"\\\"...</td>\n      <td>c(\"\\\"black beans\\\"\", \"\\\"water\\\"\", \"\\\"bay leave...</td>\n      <td>121.5</td>\n      <td>0.5</td>\n      <td>0.1</td>\n      <td>0.0</td>\n      <td>1175.1</td>\n      <td>22.2</td>\n      <td>7.8</td>\n      <td>0.6</td>\n      <td>7.9</td>\n      <td>NaN</td>\n      <td>NaN</td>\n    </tr>\n    <tr>\n      <th>75600</th>\n      <td>267827</td>\n      <td>Moose Moussaka</td>\n      <td>3600</td>\n      <td>2700</td>\n      <td>Other</td>\n      <td>c(\"\\\"1\\\"\", \"\\\"6\\\"\", \"\\\"2\\\"\", \"\\\"2\\\"\", \"\\\"1/2\\\"...</td>\n      <td>c(\"\\\"onion\\\"\", \"\\\"garlic cloves\\\"\", \"\\\"olive o...</td>\n      <td>652.2</td>\n      <td>25.8</td>\n      <td>10.7</td>\n      <td>197.9</td>\n      <td>435.5</td>\n      <td>51.9</td>\n      <td>7.5</td>\n      <td>7.2</td>\n      <td>50.1</td>\n      <td>NaN</td>\n      <td>NaN</td>\n    </tr>\n    <tr>\n      <th>75601</th>\n      <td>266983</td>\n      <td>Cantonese Pepper Steak for Two (Or More)</td>\n      <td>1800</td>\n      <td>900</td>\n      <td>Other</td>\n      <td>c(\"\\\"1/2\\\"\", \"\\\"1\\\"\", \"\\\"1/8\\\"\", \"\\\"1/8\\\"\", \"\\...</td>\n      <td>c(\"\\\"top round steak\\\"\", \"\\\"cornstarch\\\"\", \"\\\"...</td>\n      <td>223.9</td>\n      <td>9.2</td>\n      <td>3.6</td>\n      <td>78.3</td>\n      <td>725.9</td>\n      <td>7.3</td>\n      <td>1.1</td>\n      <td>1.7</td>\n      <td>26.7</td>\n      <td>2.0</td>\n      <td>NaN</td>\n    </tr>\n    <tr>\n      <th>75602</th>\n      <td>253739</td>\n      <td>Coconut Cream Cooler</td>\n      <td>300</td>\n      <td>120</td>\n      <td>Other</td>\n      <td>c(\"\\\"1\\\"\", \"\\\"1\\\"\", \"\\\"1\\\"\", \"\\\"7 1/2\\\"\", \"\\\"1...</td>\n      <td>c(\"\\\"cream of coconut\\\"\", \"\\\"water\\\"\")</td>\n      <td>2229.8</td>\n      <td>80.3</td>\n      <td>69.3</td>\n      <td>0.0</td>\n      <td>294.7</td>\n      <td>369.0</td>\n      <td>15.7</td>\n      <td>317.9</td>\n      <td>26.7</td>\n      <td>NaN</td>\n      <td>1 gallon</td>\n    </tr>\n    <tr>\n      <th>75603</th>\n      <td>78171</td>\n      <td>Cheater Risotto</td>\n      <td>960</td>\n      <td>600</td>\n      <td>Other</td>\n      <td>c(\"\\\"1\\\"\", \"\\\"3/4\\\"\", \"\\\"4\\\"\", \"\\\"1\\\"\", \"\\\"1\\\"...</td>\n      <td>c(\"\\\"arborio rice\\\"\", \"\\\"white wine\\\"\", \"\\\"gar...</td>\n      <td>654.1</td>\n      <td>13.8</td>\n      <td>6.9</td>\n      <td>34.6</td>\n      <td>1114.0</td>\n      <td>92.2</td>\n      <td>3.9</td>\n      <td>4.2</td>\n      <td>21.8</td>\n      <td>NaN</td>\n      <td>2 1/2 cups</td>\n    </tr>\n  </tbody>\n</table>\n<p>75604 rows × 18 columns</p>\n</div>"
     },
     "execution_count": 201,
     "metadata": {},
     "output_type": "execute_result"
    }
   ],
   "source": [
    "recipes = pd.read_csv('recipes.csv', low_memory=False)\n",
    "recipes"
   ],
   "metadata": {
    "collapsed": false,
    "ExecuteTime": {
     "end_time": "2024-01-16T22:23:08.273828Z",
     "start_time": "2024-01-16T22:23:07.666363Z"
    }
   },
   "id": "2b093a7364ade8b9",
   "execution_count": 201
  },
  {
   "cell_type": "code",
   "execution_count": 202,
   "outputs": [
    {
     "name": "stdout",
     "output_type": "stream",
     "text": [
      "Recipe Id \n",
      "The number of recipe ids is: 75604\n",
      "The number of unique recipe ids is: 75604\n"
     ]
    }
   ],
   "source": [
    "recipe1_count= recipes['RecipeId']\n",
    "print(\"Recipe Id \")\n",
    "print(f'The number of recipe ids is: {recipe1_count.size}')\n",
    "print(f'The number of unique recipe ids is: {recipe1_count.unique().size}')"
   ],
   "metadata": {
    "collapsed": false,
    "ExecuteTime": {
     "end_time": "2024-01-16T22:23:08.276739Z",
     "start_time": "2024-01-16T22:23:08.193127Z"
    }
   },
   "id": "df4ba00a84909f35"
  },
  {
   "cell_type": "code",
   "outputs": [
    {
     "data": {
      "text/plain": "           AuthorId  RecipeId  Rating   Like  TestSetId         Time  \\\n0          2492191A     33671     2.0    NaN        1.0  2698.714376   \n1       2002019979A     92647     2.0    NaN        2.0  2399.694583   \n2           408594E    161770     NaN    NaN        3.0  2099.113170   \n3       2001625557E    108231     2.0    NaN        4.0  1199.645575   \n4       2001427116E     71109     NaN    NaN        5.0  2341.181827   \n...             ...       ...     ...    ...        ...          ...   \n140190      999595E    338070     2.0  False        NaN  3899.421310   \n140191      999774A     29002     2.0  False        NaN  2402.372535   \n140192      999774A    159252     NaN  False        NaN  5999.598903   \n140193      999774A      1171     2.0   True        NaN   480.233207   \n140194      999917E    169413     2.0  False        NaN  3600.387748   \n\n        HighCalories  HighProtein  LowFat     LowSugar  HighFiber  \n0                0.0  Indifferent       1            0          1  \n1                1.0  Indifferent       0  Indifferent          1  \n2                1.0  Indifferent       0            0          1  \n3                1.0          Yes       0            0          1  \n4                1.0  Indifferent       0            0          1  \n...              ...          ...     ...          ...        ...  \n140190           0.0  Indifferent       1  Indifferent          0  \n140191           0.0  Indifferent       0  Indifferent          0  \n140192           0.0          Yes       0            0          0  \n140193           1.0          Yes       0            0          0  \n140194           0.0  Indifferent       0  Indifferent          0  \n\n[140195 rows x 11 columns]",
      "text/html": "<div>\n<style scoped>\n    .dataframe tbody tr th:only-of-type {\n        vertical-align: middle;\n    }\n\n    .dataframe tbody tr th {\n        vertical-align: top;\n    }\n\n    .dataframe thead th {\n        text-align: right;\n    }\n</style>\n<table border=\"1\" class=\"dataframe\">\n  <thead>\n    <tr style=\"text-align: right;\">\n      <th></th>\n      <th>AuthorId</th>\n      <th>RecipeId</th>\n      <th>Rating</th>\n      <th>Like</th>\n      <th>TestSetId</th>\n      <th>Time</th>\n      <th>HighCalories</th>\n      <th>HighProtein</th>\n      <th>LowFat</th>\n      <th>LowSugar</th>\n      <th>HighFiber</th>\n    </tr>\n  </thead>\n  <tbody>\n    <tr>\n      <th>0</th>\n      <td>2492191A</td>\n      <td>33671</td>\n      <td>2.0</td>\n      <td>NaN</td>\n      <td>1.0</td>\n      <td>2698.714376</td>\n      <td>0.0</td>\n      <td>Indifferent</td>\n      <td>1</td>\n      <td>0</td>\n      <td>1</td>\n    </tr>\n    <tr>\n      <th>1</th>\n      <td>2002019979A</td>\n      <td>92647</td>\n      <td>2.0</td>\n      <td>NaN</td>\n      <td>2.0</td>\n      <td>2399.694583</td>\n      <td>1.0</td>\n      <td>Indifferent</td>\n      <td>0</td>\n      <td>Indifferent</td>\n      <td>1</td>\n    </tr>\n    <tr>\n      <th>2</th>\n      <td>408594E</td>\n      <td>161770</td>\n      <td>NaN</td>\n      <td>NaN</td>\n      <td>3.0</td>\n      <td>2099.113170</td>\n      <td>1.0</td>\n      <td>Indifferent</td>\n      <td>0</td>\n      <td>0</td>\n      <td>1</td>\n    </tr>\n    <tr>\n      <th>3</th>\n      <td>2001625557E</td>\n      <td>108231</td>\n      <td>2.0</td>\n      <td>NaN</td>\n      <td>4.0</td>\n      <td>1199.645575</td>\n      <td>1.0</td>\n      <td>Yes</td>\n      <td>0</td>\n      <td>0</td>\n      <td>1</td>\n    </tr>\n    <tr>\n      <th>4</th>\n      <td>2001427116E</td>\n      <td>71109</td>\n      <td>NaN</td>\n      <td>NaN</td>\n      <td>5.0</td>\n      <td>2341.181827</td>\n      <td>1.0</td>\n      <td>Indifferent</td>\n      <td>0</td>\n      <td>0</td>\n      <td>1</td>\n    </tr>\n    <tr>\n      <th>...</th>\n      <td>...</td>\n      <td>...</td>\n      <td>...</td>\n      <td>...</td>\n      <td>...</td>\n      <td>...</td>\n      <td>...</td>\n      <td>...</td>\n      <td>...</td>\n      <td>...</td>\n      <td>...</td>\n    </tr>\n    <tr>\n      <th>140190</th>\n      <td>999595E</td>\n      <td>338070</td>\n      <td>2.0</td>\n      <td>False</td>\n      <td>NaN</td>\n      <td>3899.421310</td>\n      <td>0.0</td>\n      <td>Indifferent</td>\n      <td>1</td>\n      <td>Indifferent</td>\n      <td>0</td>\n    </tr>\n    <tr>\n      <th>140191</th>\n      <td>999774A</td>\n      <td>29002</td>\n      <td>2.0</td>\n      <td>False</td>\n      <td>NaN</td>\n      <td>2402.372535</td>\n      <td>0.0</td>\n      <td>Indifferent</td>\n      <td>0</td>\n      <td>Indifferent</td>\n      <td>0</td>\n    </tr>\n    <tr>\n      <th>140192</th>\n      <td>999774A</td>\n      <td>159252</td>\n      <td>NaN</td>\n      <td>False</td>\n      <td>NaN</td>\n      <td>5999.598903</td>\n      <td>0.0</td>\n      <td>Yes</td>\n      <td>0</td>\n      <td>0</td>\n      <td>0</td>\n    </tr>\n    <tr>\n      <th>140193</th>\n      <td>999774A</td>\n      <td>1171</td>\n      <td>2.0</td>\n      <td>True</td>\n      <td>NaN</td>\n      <td>480.233207</td>\n      <td>1.0</td>\n      <td>Yes</td>\n      <td>0</td>\n      <td>0</td>\n      <td>0</td>\n    </tr>\n    <tr>\n      <th>140194</th>\n      <td>999917E</td>\n      <td>169413</td>\n      <td>2.0</td>\n      <td>False</td>\n      <td>NaN</td>\n      <td>3600.387748</td>\n      <td>0.0</td>\n      <td>Indifferent</td>\n      <td>0</td>\n      <td>Indifferent</td>\n      <td>0</td>\n    </tr>\n  </tbody>\n</table>\n<p>140195 rows × 11 columns</p>\n</div>"
     },
     "execution_count": 203,
     "metadata": {},
     "output_type": "execute_result"
    }
   ],
   "source": [
    "merged_request_review = pd.merge(reviews,requests,on=['AuthorId','RecipeId'])\n",
    "merged_request_review"
   ],
   "metadata": {
    "collapsed": false,
    "ExecuteTime": {
     "end_time": "2024-01-16T22:23:08.309783Z",
     "start_time": "2024-01-16T22:23:08.198584Z"
    }
   },
   "id": "ae2ed40a9bf4da80",
   "execution_count": 203
  },
  {
   "cell_type": "code",
   "outputs": [
    {
     "name": "stdout",
     "output_type": "stream",
     "text": [
      "Author Id \n",
      "The number of author ids is: 140195\n",
      "The number of unique author ids is: 49348\n",
      "Author Diff: 90847\n",
      "Recipe Id \n",
      "The number of recipe ids is: 140195\n",
      "The number of unique recipe ids is: 75604\n",
      "Recipe Diff: 64591\n"
     ]
    }
   ],
   "source": [
    "user1_count= merged_request_review['AuthorId']\n",
    "print(\"Author Id \")\n",
    "print(f'The number of author ids is: {user1_count.size}')\n",
    "print(f'The number of unique author ids is: {user1_count.unique().size}')\n",
    "print(f'Author Diff: {user_count.size-user_count.unique().size}')\n",
    "recipe1_count= merged_request_review['RecipeId']\n",
    "print(\"Recipe Id \")\n",
    "print(f'The number of recipe ids is: {recipe1_count.size}')\n",
    "print(f'The number of unique recipe ids is: {recipe1_count.unique().size}')\n",
    "print(f'Recipe Diff: {recipe_count.size-recipe_count.unique().size}')"
   ],
   "metadata": {
    "collapsed": false,
    "ExecuteTime": {
     "end_time": "2024-01-16T22:23:08.425046Z",
     "start_time": "2024-01-16T22:23:08.264421Z"
    }
   },
   "id": "40fe2c30f2a496a5",
   "execution_count": 204
  },
  {
   "cell_type": "markdown",
   "source": [
    "**CHECK** If a following recipe id exists and how many times and if the Recipe Id is mapped to the unique AuthorId "
   ],
   "metadata": {
    "collapsed": false
   },
   "id": "2a2170603a82612"
  },
  {
   "cell_type": "code",
   "outputs": [
    {
     "name": "stdout",
     "output_type": "stream",
     "text": [
      "Recipe with RecipeId 45809 repeats 258 times.\n",
      "Table of AuthorId values for RecipeId 45809\n"
     ]
    },
    {
     "data": {
      "text/plain": "           AuthorId  RecipeId\n63      2002602259D     45809\n1675        864207D     45809\n2153    2001559569B     45809\n3501    1802473053B     45809\n3704        337907B     45809\n...             ...       ...\n137190      903531E     45809\n138317      931429E     45809\n138676      939545E     45809\n139653      978808D     45809\n140050      988578C     45809\n\n[258 rows x 2 columns]",
      "text/html": "<div>\n<style scoped>\n    .dataframe tbody tr th:only-of-type {\n        vertical-align: middle;\n    }\n\n    .dataframe tbody tr th {\n        vertical-align: top;\n    }\n\n    .dataframe thead th {\n        text-align: right;\n    }\n</style>\n<table border=\"1\" class=\"dataframe\">\n  <thead>\n    <tr style=\"text-align: right;\">\n      <th></th>\n      <th>AuthorId</th>\n      <th>RecipeId</th>\n    </tr>\n  </thead>\n  <tbody>\n    <tr>\n      <th>63</th>\n      <td>2002602259D</td>\n      <td>45809</td>\n    </tr>\n    <tr>\n      <th>1675</th>\n      <td>864207D</td>\n      <td>45809</td>\n    </tr>\n    <tr>\n      <th>2153</th>\n      <td>2001559569B</td>\n      <td>45809</td>\n    </tr>\n    <tr>\n      <th>3501</th>\n      <td>1802473053B</td>\n      <td>45809</td>\n    </tr>\n    <tr>\n      <th>3704</th>\n      <td>337907B</td>\n      <td>45809</td>\n    </tr>\n    <tr>\n      <th>...</th>\n      <td>...</td>\n      <td>...</td>\n    </tr>\n    <tr>\n      <th>137190</th>\n      <td>903531E</td>\n      <td>45809</td>\n    </tr>\n    <tr>\n      <th>138317</th>\n      <td>931429E</td>\n      <td>45809</td>\n    </tr>\n    <tr>\n      <th>138676</th>\n      <td>939545E</td>\n      <td>45809</td>\n    </tr>\n    <tr>\n      <th>139653</th>\n      <td>978808D</td>\n      <td>45809</td>\n    </tr>\n    <tr>\n      <th>140050</th>\n      <td>988578C</td>\n      <td>45809</td>\n    </tr>\n  </tbody>\n</table>\n<p>258 rows × 2 columns</p>\n</div>"
     },
     "execution_count": 205,
     "metadata": {},
     "output_type": "execute_result"
    }
   ],
   "source": [
    "recipe_id_to_check = merged_request_review['RecipeId'].value_counts().idxmax()\n",
    "\n",
    "# Display the result\n",
    "recipe_exists = merged_request_review['RecipeId'].isin([recipe_id_to_check])\n",
    "\n",
    "# Display the result\n",
    "if recipe_exists.any():\n",
    "    # print(f\"Recipe with RecipeId {recipe_id_to_check} exists.\")\n",
    "    recipe_count = merged_request_review['RecipeId'].value_counts().get(recipe_id_to_check, 0)\n",
    "    print(f\"Recipe with RecipeId {recipe_id_to_check} repeats {recipe_count} times.\")\n",
    "    # Get the table of corresponding AuthorId values for the given RecipeId\n",
    "    author_id_table = merged_request_review.loc[merged_request_review['RecipeId'] == recipe_id_to_check, ['AuthorId','RecipeId']]\n",
    "    print(\"Table of AuthorId values for RecipeId\", recipe_id_to_check)\n",
    "    print()\n",
    "    \n",
    "else:\n",
    "    print(f\"Recipe with RecipeId {recipe_id_to_check} does not exist.\")\n",
    "\n",
    "author_id_table    "
   ],
   "metadata": {
    "collapsed": false,
    "ExecuteTime": {
     "end_time": "2024-01-16T22:23:08.590919Z",
     "start_time": "2024-01-16T22:23:08.292027Z"
    }
   },
   "id": "4563c515c8335bba",
   "execution_count": 205
  },
  {
   "cell_type": "code",
   "outputs": [
    {
     "name": "stdout",
     "output_type": "stream",
     "text": [
      "The unique RecipeId values are the same in both DataFrames.\n"
     ]
    }
   ],
   "source": [
    "unique_recipe_ids_from_merge = merged_request_review['RecipeId'].unique()\n",
    "unique_recipe_ids_from_recipes = recipes['RecipeId'].unique()\n",
    "are_ids_equal = set(unique_recipe_ids_from_file) == set(unique_recipe_ids_from_merge)\n",
    "\n",
    "if are_ids_equal:\n",
    "    print(\"The unique RecipeId values are the same in both DataFrames.\")\n",
    "else:\n",
    "    print(\"The unique RecipeId values are not the same in both DataFrames.\")\n",
    "\n",
    "# # Assuming merged_request_review is the result of merging reviews and requests DataFrames\n",
    "# # using pd.merge(reviews, requests, on=['AuthorId', 'RecipeId'])\n",
    "# \n",
    "# # Get the unique RecipeId values\n",
    "# unique_recipe_ids = merged_request_review['RecipeId'].unique()\n",
    "# \n",
    "# # Initialize a list to store the uniqueness result for each RecipeId\n",
    "# uniqueness_results = []\n",
    "# \n",
    "# # Iterate over unique RecipeId values\n",
    "# for recipe_id in unique_recipe_ids:\n",
    "#     # Get the table of corresponding AuthorId values for the given RecipeId\n",
    "#     author_id_table = merged_request_review.loc[merged_request_review['RecipeId'] == recipe_id, ['AuthorId', 'RecipeId']]\n",
    "# \n",
    "#     # Check if the mapped AuthorId values are unique\n",
    "#     is_author_id_unique = ~author_id_table['AuthorId'].duplicated().any()\n",
    "# \n",
    "#     uniqueness_results.append((recipe_id, is_author_id_unique))\n",
    "# \n",
    "# # Create a DataFrame from the results\n",
    "# uniqueness_df = pd.DataFrame(uniqueness_results, columns=['RecipeId', 'IsAuthorIdUnique'])\n",
    "# \n",
    "# # Display the DataFrame\n",
    "# print(uniqueness_df)\n",
    "# # \n",
    "# # Visualization: Bar plot of unique AuthorId counts for each RecipeId\n",
    "# uniqueness_df.set_index('RecipeId')['IsAuthorIdUnique'].astype(int).plot(kind='bar', xlabel='RecipeId', ylabel='IsAuthorIdUnique (1: True, 0: False)', title='Uniqueness of AuthorId for Each RecipeId')\n",
    "# plt.show()"
   ],
   "metadata": {
    "collapsed": false,
    "ExecuteTime": {
     "end_time": "2024-01-16T22:23:08.695275Z",
     "start_time": "2024-01-16T22:23:08.317132Z"
    }
   },
   "id": "d305ac55a6901072",
   "execution_count": 206
  },
  {
   "cell_type": "code",
   "outputs": [
    {
     "data": {
      "text/plain": "           AuthorId  RecipeId  Rating  Like  TestSetId          Time  \\\n0           914496A     73440     NaN   NaN     1548.0   1800.709345   \n1          2668181C     73440     2.0   NaN     2069.0   1797.825626   \n2       2000237272A     73440     2.0   NaN     2152.0   1800.440504   \n3       2001895110E     73440     NaN   NaN     3293.0   1799.437007   \n4       1800347124D     73440     NaN   NaN     4621.0   1801.007172   \n...             ...       ...     ...   ...        ...           ...   \n140190     1677720D    253577     2.0  True        NaN  71998.977353   \n140191      853126B    267827     NaN   NaN     7148.0   6299.278484   \n140192  2000154789A    266983     2.0  True        NaN   2700.812133   \n140193      499207A    253739     2.0  True        NaN    419.558713   \n140194      163793B     78171     NaN  True        NaN   1560.649725   \n\n        HighCalories  HighProtein  LowFat     LowSugar  ...  FatContent  \\\n0                0.0  Indifferent       0            0  ...        10.1   \n1                0.0          Yes       0  Indifferent  ...        10.1   \n2                1.0  Indifferent       0            0  ...        10.1   \n3                0.0  Indifferent       0            0  ...        10.1   \n4                1.0          Yes       0            0  ...        10.1   \n...              ...          ...     ...          ...  ...         ...   \n140190           0.0  Indifferent       1  Indifferent  ...         0.5   \n140191           0.0          Yes       1            0  ...        25.8   \n140192           0.0          Yes       0            0  ...         9.2   \n140193           1.0  Indifferent       0  Indifferent  ...        80.3   \n140194           0.0  Indifferent       0            0  ...        13.8   \n\n       SaturatedFatContent  CholesterolContent  SodiumContent  \\\n0                      1.2                 0.0           13.1   \n1                      1.2                 0.0           13.1   \n2                      1.2                 0.0           13.1   \n3                      1.2                 0.0           13.1   \n4                      1.2                 0.0           13.1   \n...                    ...                 ...            ...   \n140190                 0.1                 0.0         1175.1   \n140191                10.7               197.9          435.5   \n140192                 3.6                78.3          725.9   \n140193                69.3                 0.0          294.7   \n140194                 6.9                34.6         1114.0   \n\n       CarbohydrateContent FiberContent SugarContent  ProteinContent  \\\n0                     31.8          2.3          1.4             6.7   \n1                     31.8          2.3          1.4             6.7   \n2                     31.8          2.3          1.4             6.7   \n3                     31.8          2.3          1.4             6.7   \n4                     31.8          2.3          1.4             6.7   \n...                    ...          ...          ...             ...   \n140190                22.2          7.8          0.6             7.9   \n140191                51.9          7.5          7.2            50.1   \n140192                 7.3          1.1          1.7            26.7   \n140193               369.0         15.7        317.9            26.7   \n140194                92.2          3.9          4.2            21.8   \n\n        RecipeServings  RecipeYield  \n0                  9.0          NaN  \n1                  9.0          NaN  \n2                  9.0          NaN  \n3                  9.0          NaN  \n4                  9.0          NaN  \n...                ...          ...  \n140190             NaN          NaN  \n140191             NaN          NaN  \n140192             2.0          NaN  \n140193             NaN     1 gallon  \n140194             NaN   2 1/2 cups  \n\n[140195 rows x 28 columns]",
      "text/html": "<div>\n<style scoped>\n    .dataframe tbody tr th:only-of-type {\n        vertical-align: middle;\n    }\n\n    .dataframe tbody tr th {\n        vertical-align: top;\n    }\n\n    .dataframe thead th {\n        text-align: right;\n    }\n</style>\n<table border=\"1\" class=\"dataframe\">\n  <thead>\n    <tr style=\"text-align: right;\">\n      <th></th>\n      <th>AuthorId</th>\n      <th>RecipeId</th>\n      <th>Rating</th>\n      <th>Like</th>\n      <th>TestSetId</th>\n      <th>Time</th>\n      <th>HighCalories</th>\n      <th>HighProtein</th>\n      <th>LowFat</th>\n      <th>LowSugar</th>\n      <th>...</th>\n      <th>FatContent</th>\n      <th>SaturatedFatContent</th>\n      <th>CholesterolContent</th>\n      <th>SodiumContent</th>\n      <th>CarbohydrateContent</th>\n      <th>FiberContent</th>\n      <th>SugarContent</th>\n      <th>ProteinContent</th>\n      <th>RecipeServings</th>\n      <th>RecipeYield</th>\n    </tr>\n  </thead>\n  <tbody>\n    <tr>\n      <th>0</th>\n      <td>914496A</td>\n      <td>73440</td>\n      <td>NaN</td>\n      <td>NaN</td>\n      <td>1548.0</td>\n      <td>1800.709345</td>\n      <td>0.0</td>\n      <td>Indifferent</td>\n      <td>0</td>\n      <td>0</td>\n      <td>...</td>\n      <td>10.1</td>\n      <td>1.2</td>\n      <td>0.0</td>\n      <td>13.1</td>\n      <td>31.8</td>\n      <td>2.3</td>\n      <td>1.4</td>\n      <td>6.7</td>\n      <td>9.0</td>\n      <td>NaN</td>\n    </tr>\n    <tr>\n      <th>1</th>\n      <td>2668181C</td>\n      <td>73440</td>\n      <td>2.0</td>\n      <td>NaN</td>\n      <td>2069.0</td>\n      <td>1797.825626</td>\n      <td>0.0</td>\n      <td>Yes</td>\n      <td>0</td>\n      <td>Indifferent</td>\n      <td>...</td>\n      <td>10.1</td>\n      <td>1.2</td>\n      <td>0.0</td>\n      <td>13.1</td>\n      <td>31.8</td>\n      <td>2.3</td>\n      <td>1.4</td>\n      <td>6.7</td>\n      <td>9.0</td>\n      <td>NaN</td>\n    </tr>\n    <tr>\n      <th>2</th>\n      <td>2000237272A</td>\n      <td>73440</td>\n      <td>2.0</td>\n      <td>NaN</td>\n      <td>2152.0</td>\n      <td>1800.440504</td>\n      <td>1.0</td>\n      <td>Indifferent</td>\n      <td>0</td>\n      <td>0</td>\n      <td>...</td>\n      <td>10.1</td>\n      <td>1.2</td>\n      <td>0.0</td>\n      <td>13.1</td>\n      <td>31.8</td>\n      <td>2.3</td>\n      <td>1.4</td>\n      <td>6.7</td>\n      <td>9.0</td>\n      <td>NaN</td>\n    </tr>\n    <tr>\n      <th>3</th>\n      <td>2001895110E</td>\n      <td>73440</td>\n      <td>NaN</td>\n      <td>NaN</td>\n      <td>3293.0</td>\n      <td>1799.437007</td>\n      <td>0.0</td>\n      <td>Indifferent</td>\n      <td>0</td>\n      <td>0</td>\n      <td>...</td>\n      <td>10.1</td>\n      <td>1.2</td>\n      <td>0.0</td>\n      <td>13.1</td>\n      <td>31.8</td>\n      <td>2.3</td>\n      <td>1.4</td>\n      <td>6.7</td>\n      <td>9.0</td>\n      <td>NaN</td>\n    </tr>\n    <tr>\n      <th>4</th>\n      <td>1800347124D</td>\n      <td>73440</td>\n      <td>NaN</td>\n      <td>NaN</td>\n      <td>4621.0</td>\n      <td>1801.007172</td>\n      <td>1.0</td>\n      <td>Yes</td>\n      <td>0</td>\n      <td>0</td>\n      <td>...</td>\n      <td>10.1</td>\n      <td>1.2</td>\n      <td>0.0</td>\n      <td>13.1</td>\n      <td>31.8</td>\n      <td>2.3</td>\n      <td>1.4</td>\n      <td>6.7</td>\n      <td>9.0</td>\n      <td>NaN</td>\n    </tr>\n    <tr>\n      <th>...</th>\n      <td>...</td>\n      <td>...</td>\n      <td>...</td>\n      <td>...</td>\n      <td>...</td>\n      <td>...</td>\n      <td>...</td>\n      <td>...</td>\n      <td>...</td>\n      <td>...</td>\n      <td>...</td>\n      <td>...</td>\n      <td>...</td>\n      <td>...</td>\n      <td>...</td>\n      <td>...</td>\n      <td>...</td>\n      <td>...</td>\n      <td>...</td>\n      <td>...</td>\n      <td>...</td>\n    </tr>\n    <tr>\n      <th>140190</th>\n      <td>1677720D</td>\n      <td>253577</td>\n      <td>2.0</td>\n      <td>True</td>\n      <td>NaN</td>\n      <td>71998.977353</td>\n      <td>0.0</td>\n      <td>Indifferent</td>\n      <td>1</td>\n      <td>Indifferent</td>\n      <td>...</td>\n      <td>0.5</td>\n      <td>0.1</td>\n      <td>0.0</td>\n      <td>1175.1</td>\n      <td>22.2</td>\n      <td>7.8</td>\n      <td>0.6</td>\n      <td>7.9</td>\n      <td>NaN</td>\n      <td>NaN</td>\n    </tr>\n    <tr>\n      <th>140191</th>\n      <td>853126B</td>\n      <td>267827</td>\n      <td>NaN</td>\n      <td>NaN</td>\n      <td>7148.0</td>\n      <td>6299.278484</td>\n      <td>0.0</td>\n      <td>Yes</td>\n      <td>1</td>\n      <td>0</td>\n      <td>...</td>\n      <td>25.8</td>\n      <td>10.7</td>\n      <td>197.9</td>\n      <td>435.5</td>\n      <td>51.9</td>\n      <td>7.5</td>\n      <td>7.2</td>\n      <td>50.1</td>\n      <td>NaN</td>\n      <td>NaN</td>\n    </tr>\n    <tr>\n      <th>140192</th>\n      <td>2000154789A</td>\n      <td>266983</td>\n      <td>2.0</td>\n      <td>True</td>\n      <td>NaN</td>\n      <td>2700.812133</td>\n      <td>0.0</td>\n      <td>Yes</td>\n      <td>0</td>\n      <td>0</td>\n      <td>...</td>\n      <td>9.2</td>\n      <td>3.6</td>\n      <td>78.3</td>\n      <td>725.9</td>\n      <td>7.3</td>\n      <td>1.1</td>\n      <td>1.7</td>\n      <td>26.7</td>\n      <td>2.0</td>\n      <td>NaN</td>\n    </tr>\n    <tr>\n      <th>140193</th>\n      <td>499207A</td>\n      <td>253739</td>\n      <td>2.0</td>\n      <td>True</td>\n      <td>NaN</td>\n      <td>419.558713</td>\n      <td>1.0</td>\n      <td>Indifferent</td>\n      <td>0</td>\n      <td>Indifferent</td>\n      <td>...</td>\n      <td>80.3</td>\n      <td>69.3</td>\n      <td>0.0</td>\n      <td>294.7</td>\n      <td>369.0</td>\n      <td>15.7</td>\n      <td>317.9</td>\n      <td>26.7</td>\n      <td>NaN</td>\n      <td>1 gallon</td>\n    </tr>\n    <tr>\n      <th>140194</th>\n      <td>163793B</td>\n      <td>78171</td>\n      <td>NaN</td>\n      <td>True</td>\n      <td>NaN</td>\n      <td>1560.649725</td>\n      <td>0.0</td>\n      <td>Indifferent</td>\n      <td>0</td>\n      <td>0</td>\n      <td>...</td>\n      <td>13.8</td>\n      <td>6.9</td>\n      <td>34.6</td>\n      <td>1114.0</td>\n      <td>92.2</td>\n      <td>3.9</td>\n      <td>4.2</td>\n      <td>21.8</td>\n      <td>NaN</td>\n      <td>2 1/2 cups</td>\n    </tr>\n  </tbody>\n</table>\n<p>140195 rows × 28 columns</p>\n</div>"
     },
     "execution_count": 207,
     "metadata": {},
     "output_type": "execute_result"
    }
   ],
   "source": [
    "merged_recipes_req_review= pd.merge(merged_request_review,recipes,on=['RecipeId'],how='right')\n",
    "merged_recipes_req_review"
   ],
   "metadata": {
    "collapsed": false,
    "ExecuteTime": {
     "end_time": "2024-01-16T22:23:08.887392Z",
     "start_time": "2024-01-16T22:23:08.349292Z"
    }
   },
   "id": "a09bd1c03e12ce80",
   "execution_count": 207
  },
  {
   "cell_type": "markdown",
   "source": [
    "Changing the object data types"
   ],
   "metadata": {
    "collapsed": false
   },
   "id": "6f8738647b7b81bc"
  },
  {
   "cell_type": "markdown",
   "source": [
    "Data Joining using common attributes"
   ],
   "metadata": {
    "collapsed": false
   },
   "id": "de61709106b4c884"
  },
  {
   "cell_type": "code",
   "execution_count": 208,
   "outputs": [
    {
     "data": {
      "text/plain": "         AuthorId        Diet  Age  RecipeId  Rating   Like  TestSetId  \\\n0       10000120E  Vegetarian   46       NaN     NaN    NaN        NaN   \n1        1000014D       Vegan   18       NaN     NaN    NaN        NaN   \n2        1000015A  Vegetarian   58       NaN     NaN    NaN        NaN   \n3        1000016E  Vegetarian   32       NaN     NaN    NaN        NaN   \n4        1000027E       Vegan   61       NaN     NaN    NaN        NaN   \n...           ...         ...  ...       ...     ...    ...        ...   \n362749    999917E  Vegetarian   28  169413.0     2.0  False        NaN   \n362750    999936C    Omnivore   22       NaN     NaN    NaN        NaN   \n362751     99993D  Vegetarian   58       NaN     NaN    NaN        NaN   \n362752     99994A  Vegetarian   18  373964.0     NaN    NaN     7555.0   \n362753    999991A  Vegetarian   21       NaN     NaN    NaN        NaN   \n\n               Time  HighCalories  HighProtein  ...  FatContent  \\\n0               NaN           NaN          NaN  ...         NaN   \n1               NaN           NaN          NaN  ...         NaN   \n2               NaN           NaN          NaN  ...         NaN   \n3               NaN           NaN          NaN  ...         NaN   \n4               NaN           NaN          NaN  ...         NaN   \n...             ...           ...          ...  ...         ...   \n362749  3600.387748           0.0  Indifferent  ...         8.6   \n362750          NaN           NaN          NaN  ...         NaN   \n362751          NaN           NaN          NaN  ...         NaN   \n362752  7199.509521           0.0          Yes  ...         0.2   \n362753          NaN           NaN          NaN  ...         NaN   \n\n       SaturatedFatContent  CholesterolContent SodiumContent  \\\n0                      NaN                 NaN           NaN   \n1                      NaN                 NaN           NaN   \n2                      NaN                 NaN           NaN   \n3                      NaN                 NaN           NaN   \n4                      NaN                 NaN           NaN   \n...                    ...                 ...           ...   \n362749                 4.7                66.5         521.9   \n362750                 NaN                 NaN           NaN   \n362751                 NaN                 NaN           NaN   \n362752                 0.0                 0.0           5.6   \n362753                 NaN                 NaN           NaN   \n\n        CarbohydrateContent  FiberContent SugarContent ProteinContent  \\\n0                       NaN           NaN          NaN            NaN   \n1                       NaN           NaN          NaN            NaN   \n2                       NaN           NaN          NaN            NaN   \n3                       NaN           NaN          NaN            NaN   \n4                       NaN           NaN          NaN            NaN   \n...                     ...           ...          ...            ...   \n362749                 24.8           1.7          3.4            5.6   \n362750                  NaN           NaN          NaN            NaN   \n362751                  NaN           NaN          NaN            NaN   \n362752                 36.2           0.2         33.6            0.2   \n362753                  NaN           NaN          NaN            NaN   \n\n       RecipeServings  RecipeYield  \n0                 NaN          NaN  \n1                 NaN          NaN  \n2                 NaN          NaN  \n3                 NaN          NaN  \n4                 NaN          NaN  \n...               ...          ...  \n362749            8.0          NaN  \n362750            NaN          NaN  \n362751            NaN          NaN  \n362752           16.0     3 quarts  \n362753            NaN          NaN  \n\n[362754 rows x 30 columns]",
      "text/html": "<div>\n<style scoped>\n    .dataframe tbody tr th:only-of-type {\n        vertical-align: middle;\n    }\n\n    .dataframe tbody tr th {\n        vertical-align: top;\n    }\n\n    .dataframe thead th {\n        text-align: right;\n    }\n</style>\n<table border=\"1\" class=\"dataframe\">\n  <thead>\n    <tr style=\"text-align: right;\">\n      <th></th>\n      <th>AuthorId</th>\n      <th>Diet</th>\n      <th>Age</th>\n      <th>RecipeId</th>\n      <th>Rating</th>\n      <th>Like</th>\n      <th>TestSetId</th>\n      <th>Time</th>\n      <th>HighCalories</th>\n      <th>HighProtein</th>\n      <th>...</th>\n      <th>FatContent</th>\n      <th>SaturatedFatContent</th>\n      <th>CholesterolContent</th>\n      <th>SodiumContent</th>\n      <th>CarbohydrateContent</th>\n      <th>FiberContent</th>\n      <th>SugarContent</th>\n      <th>ProteinContent</th>\n      <th>RecipeServings</th>\n      <th>RecipeYield</th>\n    </tr>\n  </thead>\n  <tbody>\n    <tr>\n      <th>0</th>\n      <td>10000120E</td>\n      <td>Vegetarian</td>\n      <td>46</td>\n      <td>NaN</td>\n      <td>NaN</td>\n      <td>NaN</td>\n      <td>NaN</td>\n      <td>NaN</td>\n      <td>NaN</td>\n      <td>NaN</td>\n      <td>...</td>\n      <td>NaN</td>\n      <td>NaN</td>\n      <td>NaN</td>\n      <td>NaN</td>\n      <td>NaN</td>\n      <td>NaN</td>\n      <td>NaN</td>\n      <td>NaN</td>\n      <td>NaN</td>\n      <td>NaN</td>\n    </tr>\n    <tr>\n      <th>1</th>\n      <td>1000014D</td>\n      <td>Vegan</td>\n      <td>18</td>\n      <td>NaN</td>\n      <td>NaN</td>\n      <td>NaN</td>\n      <td>NaN</td>\n      <td>NaN</td>\n      <td>NaN</td>\n      <td>NaN</td>\n      <td>...</td>\n      <td>NaN</td>\n      <td>NaN</td>\n      <td>NaN</td>\n      <td>NaN</td>\n      <td>NaN</td>\n      <td>NaN</td>\n      <td>NaN</td>\n      <td>NaN</td>\n      <td>NaN</td>\n      <td>NaN</td>\n    </tr>\n    <tr>\n      <th>2</th>\n      <td>1000015A</td>\n      <td>Vegetarian</td>\n      <td>58</td>\n      <td>NaN</td>\n      <td>NaN</td>\n      <td>NaN</td>\n      <td>NaN</td>\n      <td>NaN</td>\n      <td>NaN</td>\n      <td>NaN</td>\n      <td>...</td>\n      <td>NaN</td>\n      <td>NaN</td>\n      <td>NaN</td>\n      <td>NaN</td>\n      <td>NaN</td>\n      <td>NaN</td>\n      <td>NaN</td>\n      <td>NaN</td>\n      <td>NaN</td>\n      <td>NaN</td>\n    </tr>\n    <tr>\n      <th>3</th>\n      <td>1000016E</td>\n      <td>Vegetarian</td>\n      <td>32</td>\n      <td>NaN</td>\n      <td>NaN</td>\n      <td>NaN</td>\n      <td>NaN</td>\n      <td>NaN</td>\n      <td>NaN</td>\n      <td>NaN</td>\n      <td>...</td>\n      <td>NaN</td>\n      <td>NaN</td>\n      <td>NaN</td>\n      <td>NaN</td>\n      <td>NaN</td>\n      <td>NaN</td>\n      <td>NaN</td>\n      <td>NaN</td>\n      <td>NaN</td>\n      <td>NaN</td>\n    </tr>\n    <tr>\n      <th>4</th>\n      <td>1000027E</td>\n      <td>Vegan</td>\n      <td>61</td>\n      <td>NaN</td>\n      <td>NaN</td>\n      <td>NaN</td>\n      <td>NaN</td>\n      <td>NaN</td>\n      <td>NaN</td>\n      <td>NaN</td>\n      <td>...</td>\n      <td>NaN</td>\n      <td>NaN</td>\n      <td>NaN</td>\n      <td>NaN</td>\n      <td>NaN</td>\n      <td>NaN</td>\n      <td>NaN</td>\n      <td>NaN</td>\n      <td>NaN</td>\n      <td>NaN</td>\n    </tr>\n    <tr>\n      <th>...</th>\n      <td>...</td>\n      <td>...</td>\n      <td>...</td>\n      <td>...</td>\n      <td>...</td>\n      <td>...</td>\n      <td>...</td>\n      <td>...</td>\n      <td>...</td>\n      <td>...</td>\n      <td>...</td>\n      <td>...</td>\n      <td>...</td>\n      <td>...</td>\n      <td>...</td>\n      <td>...</td>\n      <td>...</td>\n      <td>...</td>\n      <td>...</td>\n      <td>...</td>\n      <td>...</td>\n    </tr>\n    <tr>\n      <th>362749</th>\n      <td>999917E</td>\n      <td>Vegetarian</td>\n      <td>28</td>\n      <td>169413.0</td>\n      <td>2.0</td>\n      <td>False</td>\n      <td>NaN</td>\n      <td>3600.387748</td>\n      <td>0.0</td>\n      <td>Indifferent</td>\n      <td>...</td>\n      <td>8.6</td>\n      <td>4.7</td>\n      <td>66.5</td>\n      <td>521.9</td>\n      <td>24.8</td>\n      <td>1.7</td>\n      <td>3.4</td>\n      <td>5.6</td>\n      <td>8.0</td>\n      <td>NaN</td>\n    </tr>\n    <tr>\n      <th>362750</th>\n      <td>999936C</td>\n      <td>Omnivore</td>\n      <td>22</td>\n      <td>NaN</td>\n      <td>NaN</td>\n      <td>NaN</td>\n      <td>NaN</td>\n      <td>NaN</td>\n      <td>NaN</td>\n      <td>NaN</td>\n      <td>...</td>\n      <td>NaN</td>\n      <td>NaN</td>\n      <td>NaN</td>\n      <td>NaN</td>\n      <td>NaN</td>\n      <td>NaN</td>\n      <td>NaN</td>\n      <td>NaN</td>\n      <td>NaN</td>\n      <td>NaN</td>\n    </tr>\n    <tr>\n      <th>362751</th>\n      <td>99993D</td>\n      <td>Vegetarian</td>\n      <td>58</td>\n      <td>NaN</td>\n      <td>NaN</td>\n      <td>NaN</td>\n      <td>NaN</td>\n      <td>NaN</td>\n      <td>NaN</td>\n      <td>NaN</td>\n      <td>...</td>\n      <td>NaN</td>\n      <td>NaN</td>\n      <td>NaN</td>\n      <td>NaN</td>\n      <td>NaN</td>\n      <td>NaN</td>\n      <td>NaN</td>\n      <td>NaN</td>\n      <td>NaN</td>\n      <td>NaN</td>\n    </tr>\n    <tr>\n      <th>362752</th>\n      <td>99994A</td>\n      <td>Vegetarian</td>\n      <td>18</td>\n      <td>373964.0</td>\n      <td>NaN</td>\n      <td>NaN</td>\n      <td>7555.0</td>\n      <td>7199.509521</td>\n      <td>0.0</td>\n      <td>Yes</td>\n      <td>...</td>\n      <td>0.2</td>\n      <td>0.0</td>\n      <td>0.0</td>\n      <td>5.6</td>\n      <td>36.2</td>\n      <td>0.2</td>\n      <td>33.6</td>\n      <td>0.2</td>\n      <td>16.0</td>\n      <td>3 quarts</td>\n    </tr>\n    <tr>\n      <th>362753</th>\n      <td>999991A</td>\n      <td>Vegetarian</td>\n      <td>21</td>\n      <td>NaN</td>\n      <td>NaN</td>\n      <td>NaN</td>\n      <td>NaN</td>\n      <td>NaN</td>\n      <td>NaN</td>\n      <td>NaN</td>\n      <td>...</td>\n      <td>NaN</td>\n      <td>NaN</td>\n      <td>NaN</td>\n      <td>NaN</td>\n      <td>NaN</td>\n      <td>NaN</td>\n      <td>NaN</td>\n      <td>NaN</td>\n      <td>NaN</td>\n      <td>NaN</td>\n    </tr>\n  </tbody>\n</table>\n<p>362754 rows × 30 columns</p>\n</div>"
     },
     "execution_count": 208,
     "metadata": {},
     "output_type": "execute_result"
    }
   ],
   "source": [
    "author_ID = 'AuthorId'\n",
    "merged_diet_all = pd.merge(diet, merged_recipes_req_review, on=author_ID, how='left')\n",
    "# merged_request_recipes = pd.merge(requests, recipes, on='RecipeId', how='left')\n",
    "merged_diet_all"
   ],
   "metadata": {
    "collapsed": false,
    "ExecuteTime": {
     "end_time": "2024-01-16T22:23:09.255630Z",
     "start_time": "2024-01-16T22:23:08.497149Z"
    }
   },
   "id": "b4f7cfcbad4cda38"
  },
  {
   "cell_type": "markdown",
   "source": [
    "Plot graphs of the data frames"
   ],
   "metadata": {
    "collapsed": false
   },
   "id": "1caafd20b94c3350"
  },
  {
   "cell_type": "code",
   "outputs": [],
   "source": [],
   "metadata": {
    "collapsed": false,
    "ExecuteTime": {
     "end_time": "2024-01-16T22:23:09.260118Z",
     "start_time": "2024-01-16T22:23:09.100918Z"
    }
   },
   "id": "689761e3058a5d67",
   "execution_count": 208
  },
  {
   "cell_type": "markdown",
   "source": [],
   "metadata": {
    "collapsed": false
   },
   "id": "a04953e769786134"
  },
  {
   "cell_type": "markdown",
   "source": [],
   "metadata": {
    "collapsed": false
   },
   "id": "e95fb1b44bf32b76"
  },
  {
   "cell_type": "markdown",
   "source": [
    "Impute the missing values"
   ],
   "metadata": {
    "collapsed": false
   },
   "id": "9062a6a8aa6efd46"
  },
  {
   "cell_type": "code",
   "execution_count": 209,
   "outputs": [],
   "source": [
    "# 1 value missing in diet column. Filled with most occuring value.\n",
    "merged_diet_all['Diet'] = merged_diet_all['Diet'].fillna('Vegetarian')"
   ],
   "metadata": {
    "collapsed": false,
    "ExecuteTime": {
     "end_time": "2024-01-16T22:23:09.264001Z",
     "start_time": "2024-01-16T22:23:09.107187Z"
    }
   },
   "id": "c3518f9894f574d0"
  },
  {
   "cell_type": "code",
   "outputs": [
    {
     "name": "stderr",
     "output_type": "stream",
     "text": [
      "The default of observed=False is deprecated and will be changed to True in a future version of pandas. Pass observed=False to retain current behavior or observed=True to adopt the future default and silence this warning.\n"
     ]
    },
    {
     "data": {
      "text/plain": "         AuthorId        Diet  Age  RecipeId  Rating   Like  TestSetId  \\\n0       10000120E  Vegetarian   46    2886.0     NaN    NaN        NaN   \n1        1000014D       Vegan   18   11194.0     NaN    NaN        NaN   \n2        1000015A  Vegetarian   58   45809.0     NaN    NaN        NaN   \n3        1000016E  Vegetarian   32  150863.0     NaN    NaN        NaN   \n4        1000027E       Vegan   61   64446.0     NaN    NaN        NaN   \n...           ...         ...  ...       ...     ...    ...        ...   \n362749    999917E  Vegetarian   28  169413.0     2.0  False        NaN   \n362750    999936C    Omnivore   22   15072.0     NaN    NaN        NaN   \n362751     99993D  Vegetarian   58   45809.0     NaN    NaN        NaN   \n362752     99994A  Vegetarian   18  373964.0     NaN    NaN     7555.0   \n362753    999991A  Vegetarian   21   45809.0     NaN    NaN        NaN   \n\n               Time  HighCalories  HighProtein  ...  FatContent  \\\n0               NaN           NaN          NaN  ...         NaN   \n1               NaN           NaN          NaN  ...         NaN   \n2               NaN           NaN          NaN  ...         NaN   \n3               NaN           NaN          NaN  ...         NaN   \n4               NaN           NaN          NaN  ...         NaN   \n...             ...           ...          ...  ...         ...   \n362749  3600.387748           0.0  Indifferent  ...         8.6   \n362750          NaN           NaN          NaN  ...         NaN   \n362751          NaN           NaN          NaN  ...         NaN   \n362752  7199.509521           0.0          Yes  ...         0.2   \n362753          NaN           NaN          NaN  ...         NaN   \n\n       SaturatedFatContent  CholesterolContent SodiumContent  \\\n0                      NaN                 NaN           NaN   \n1                      NaN                 NaN           NaN   \n2                      NaN                 NaN           NaN   \n3                      NaN                 NaN           NaN   \n4                      NaN                 NaN           NaN   \n...                    ...                 ...           ...   \n362749                 4.7                66.5         521.9   \n362750                 NaN                 NaN           NaN   \n362751                 NaN                 NaN           NaN   \n362752                 0.0                 0.0           5.6   \n362753                 NaN                 NaN           NaN   \n\n        CarbohydrateContent  FiberContent SugarContent ProteinContent  \\\n0                       NaN           NaN          NaN            NaN   \n1                       NaN           NaN          NaN            NaN   \n2                       NaN           NaN          NaN            NaN   \n3                       NaN           NaN          NaN            NaN   \n4                       NaN           NaN          NaN            NaN   \n...                     ...           ...          ...            ...   \n362749                 24.8           1.7          3.4            5.6   \n362750                  NaN           NaN          NaN            NaN   \n362751                  NaN           NaN          NaN            NaN   \n362752                 36.2           0.2         33.6            0.2   \n362753                  NaN           NaN          NaN            NaN   \n\n       RecipeServings  RecipeYield  \n0                 NaN          NaN  \n1                 NaN          NaN  \n2                 NaN          NaN  \n3                 NaN          NaN  \n4                 NaN          NaN  \n...               ...          ...  \n362749            8.0          NaN  \n362750            NaN          NaN  \n362751            NaN          NaN  \n362752           16.0     3 quarts  \n362753            NaN          NaN  \n\n[362754 rows x 30 columns]",
      "text/html": "<div>\n<style scoped>\n    .dataframe tbody tr th:only-of-type {\n        vertical-align: middle;\n    }\n\n    .dataframe tbody tr th {\n        vertical-align: top;\n    }\n\n    .dataframe thead th {\n        text-align: right;\n    }\n</style>\n<table border=\"1\" class=\"dataframe\">\n  <thead>\n    <tr style=\"text-align: right;\">\n      <th></th>\n      <th>AuthorId</th>\n      <th>Diet</th>\n      <th>Age</th>\n      <th>RecipeId</th>\n      <th>Rating</th>\n      <th>Like</th>\n      <th>TestSetId</th>\n      <th>Time</th>\n      <th>HighCalories</th>\n      <th>HighProtein</th>\n      <th>...</th>\n      <th>FatContent</th>\n      <th>SaturatedFatContent</th>\n      <th>CholesterolContent</th>\n      <th>SodiumContent</th>\n      <th>CarbohydrateContent</th>\n      <th>FiberContent</th>\n      <th>SugarContent</th>\n      <th>ProteinContent</th>\n      <th>RecipeServings</th>\n      <th>RecipeYield</th>\n    </tr>\n  </thead>\n  <tbody>\n    <tr>\n      <th>0</th>\n      <td>10000120E</td>\n      <td>Vegetarian</td>\n      <td>46</td>\n      <td>2886.0</td>\n      <td>NaN</td>\n      <td>NaN</td>\n      <td>NaN</td>\n      <td>NaN</td>\n      <td>NaN</td>\n      <td>NaN</td>\n      <td>...</td>\n      <td>NaN</td>\n      <td>NaN</td>\n      <td>NaN</td>\n      <td>NaN</td>\n      <td>NaN</td>\n      <td>NaN</td>\n      <td>NaN</td>\n      <td>NaN</td>\n      <td>NaN</td>\n      <td>NaN</td>\n    </tr>\n    <tr>\n      <th>1</th>\n      <td>1000014D</td>\n      <td>Vegan</td>\n      <td>18</td>\n      <td>11194.0</td>\n      <td>NaN</td>\n      <td>NaN</td>\n      <td>NaN</td>\n      <td>NaN</td>\n      <td>NaN</td>\n      <td>NaN</td>\n      <td>...</td>\n      <td>NaN</td>\n      <td>NaN</td>\n      <td>NaN</td>\n      <td>NaN</td>\n      <td>NaN</td>\n      <td>NaN</td>\n      <td>NaN</td>\n      <td>NaN</td>\n      <td>NaN</td>\n      <td>NaN</td>\n    </tr>\n    <tr>\n      <th>2</th>\n      <td>1000015A</td>\n      <td>Vegetarian</td>\n      <td>58</td>\n      <td>45809.0</td>\n      <td>NaN</td>\n      <td>NaN</td>\n      <td>NaN</td>\n      <td>NaN</td>\n      <td>NaN</td>\n      <td>NaN</td>\n      <td>...</td>\n      <td>NaN</td>\n      <td>NaN</td>\n      <td>NaN</td>\n      <td>NaN</td>\n      <td>NaN</td>\n      <td>NaN</td>\n      <td>NaN</td>\n      <td>NaN</td>\n      <td>NaN</td>\n      <td>NaN</td>\n    </tr>\n    <tr>\n      <th>3</th>\n      <td>1000016E</td>\n      <td>Vegetarian</td>\n      <td>32</td>\n      <td>150863.0</td>\n      <td>NaN</td>\n      <td>NaN</td>\n      <td>NaN</td>\n      <td>NaN</td>\n      <td>NaN</td>\n      <td>NaN</td>\n      <td>...</td>\n      <td>NaN</td>\n      <td>NaN</td>\n      <td>NaN</td>\n      <td>NaN</td>\n      <td>NaN</td>\n      <td>NaN</td>\n      <td>NaN</td>\n      <td>NaN</td>\n      <td>NaN</td>\n      <td>NaN</td>\n    </tr>\n    <tr>\n      <th>4</th>\n      <td>1000027E</td>\n      <td>Vegan</td>\n      <td>61</td>\n      <td>64446.0</td>\n      <td>NaN</td>\n      <td>NaN</td>\n      <td>NaN</td>\n      <td>NaN</td>\n      <td>NaN</td>\n      <td>NaN</td>\n      <td>...</td>\n      <td>NaN</td>\n      <td>NaN</td>\n      <td>NaN</td>\n      <td>NaN</td>\n      <td>NaN</td>\n      <td>NaN</td>\n      <td>NaN</td>\n      <td>NaN</td>\n      <td>NaN</td>\n      <td>NaN</td>\n    </tr>\n    <tr>\n      <th>...</th>\n      <td>...</td>\n      <td>...</td>\n      <td>...</td>\n      <td>...</td>\n      <td>...</td>\n      <td>...</td>\n      <td>...</td>\n      <td>...</td>\n      <td>...</td>\n      <td>...</td>\n      <td>...</td>\n      <td>...</td>\n      <td>...</td>\n      <td>...</td>\n      <td>...</td>\n      <td>...</td>\n      <td>...</td>\n      <td>...</td>\n      <td>...</td>\n      <td>...</td>\n      <td>...</td>\n    </tr>\n    <tr>\n      <th>362749</th>\n      <td>999917E</td>\n      <td>Vegetarian</td>\n      <td>28</td>\n      <td>169413.0</td>\n      <td>2.0</td>\n      <td>False</td>\n      <td>NaN</td>\n      <td>3600.387748</td>\n      <td>0.0</td>\n      <td>Indifferent</td>\n      <td>...</td>\n      <td>8.6</td>\n      <td>4.7</td>\n      <td>66.5</td>\n      <td>521.9</td>\n      <td>24.8</td>\n      <td>1.7</td>\n      <td>3.4</td>\n      <td>5.6</td>\n      <td>8.0</td>\n      <td>NaN</td>\n    </tr>\n    <tr>\n      <th>362750</th>\n      <td>999936C</td>\n      <td>Omnivore</td>\n      <td>22</td>\n      <td>15072.0</td>\n      <td>NaN</td>\n      <td>NaN</td>\n      <td>NaN</td>\n      <td>NaN</td>\n      <td>NaN</td>\n      <td>NaN</td>\n      <td>...</td>\n      <td>NaN</td>\n      <td>NaN</td>\n      <td>NaN</td>\n      <td>NaN</td>\n      <td>NaN</td>\n      <td>NaN</td>\n      <td>NaN</td>\n      <td>NaN</td>\n      <td>NaN</td>\n      <td>NaN</td>\n    </tr>\n    <tr>\n      <th>362751</th>\n      <td>99993D</td>\n      <td>Vegetarian</td>\n      <td>58</td>\n      <td>45809.0</td>\n      <td>NaN</td>\n      <td>NaN</td>\n      <td>NaN</td>\n      <td>NaN</td>\n      <td>NaN</td>\n      <td>NaN</td>\n      <td>...</td>\n      <td>NaN</td>\n      <td>NaN</td>\n      <td>NaN</td>\n      <td>NaN</td>\n      <td>NaN</td>\n      <td>NaN</td>\n      <td>NaN</td>\n      <td>NaN</td>\n      <td>NaN</td>\n      <td>NaN</td>\n    </tr>\n    <tr>\n      <th>362752</th>\n      <td>99994A</td>\n      <td>Vegetarian</td>\n      <td>18</td>\n      <td>373964.0</td>\n      <td>NaN</td>\n      <td>NaN</td>\n      <td>7555.0</td>\n      <td>7199.509521</td>\n      <td>0.0</td>\n      <td>Yes</td>\n      <td>...</td>\n      <td>0.2</td>\n      <td>0.0</td>\n      <td>0.0</td>\n      <td>5.6</td>\n      <td>36.2</td>\n      <td>0.2</td>\n      <td>33.6</td>\n      <td>0.2</td>\n      <td>16.0</td>\n      <td>3 quarts</td>\n    </tr>\n    <tr>\n      <th>362753</th>\n      <td>999991A</td>\n      <td>Vegetarian</td>\n      <td>21</td>\n      <td>45809.0</td>\n      <td>NaN</td>\n      <td>NaN</td>\n      <td>NaN</td>\n      <td>NaN</td>\n      <td>NaN</td>\n      <td>NaN</td>\n      <td>...</td>\n      <td>NaN</td>\n      <td>NaN</td>\n      <td>NaN</td>\n      <td>NaN</td>\n      <td>NaN</td>\n      <td>NaN</td>\n      <td>NaN</td>\n      <td>NaN</td>\n      <td>NaN</td>\n      <td>NaN</td>\n    </tr>\n  </tbody>\n</table>\n<p>362754 rows × 30 columns</p>\n</div>"
     },
     "execution_count": 210,
     "metadata": {},
     "output_type": "execute_result"
    }
   ],
   "source": [
    "#impute the values for all dietary preferences for all ages with the most frequent RecipeId for that age in that category\n",
    "helper_df = merged_diet_all.groupby(['Age', 'Diet'])['RecipeId'].agg(lambda x: x.mode()[0]).reset_index()\n",
    "helper_df.columns = ['Age', 'Diet', 'Most Common Recipe']\n",
    "def impute_recipe(row):\n",
    "    if pd.isnull(row['RecipeId']):\n",
    "        return helper_df[(helper_df['Age'] == row['Age']) & (helper_df['Diet'] == row['Diet'])]['Most Common Recipe'].values[0]\n",
    "    else:\n",
    "        return row['RecipeId']\n",
    "merged_diet_all['RecipeId'] = merged_diet_all.apply(impute_recipe, axis=1)\n",
    "merged_diet_all"
   ],
   "metadata": {
    "collapsed": false,
    "ExecuteTime": {
     "end_time": "2024-01-16T22:23:54.570422Z",
     "start_time": "2024-01-16T22:23:09.114462Z"
    }
   },
   "id": "d11e460c388617a3",
   "execution_count": 210
  },
  {
   "cell_type": "code",
   "outputs": [
    {
     "data": {
      "text/plain": "         AuthorId        Diet  Age  RecipeId  Rating   Like  TestSetId  \\\n0       10000120E  Vegetarian   46    2886.0     NaN    NaN        NaN   \n1        1000014D       Vegan   18   11194.0     NaN    NaN        NaN   \n2        1000015A  Vegetarian   58   45809.0     NaN    NaN        NaN   \n3        1000016E  Vegetarian   32  150863.0     NaN    NaN        NaN   \n4        1000027E       Vegan   61   64446.0     NaN    NaN        NaN   \n...           ...         ...  ...       ...     ...    ...        ...   \n362749    999917E  Vegetarian   28  169413.0     2.0  False        NaN   \n362750    999936C    Omnivore   22   15072.0     NaN    NaN        NaN   \n362751     99993D  Vegetarian   58   45809.0     NaN    NaN        NaN   \n362752     99994A  Vegetarian   18  373964.0     NaN    NaN     7555.0   \n362753    999991A  Vegetarian   21   45809.0     NaN    NaN        NaN   \n\n                Time  HighCalories  HighProtein  ...  FatContent  \\\n0        4198.933093           1.0          Yes  ...         NaN   \n1         600.014974           0.0  Indifferent  ...         NaN   \n2       14399.381563           1.0  Indifferent  ...         NaN   \n3        3600.420005           0.0  Indifferent  ...         NaN   \n4        2099.032638           0.0  Indifferent  ...         NaN   \n...              ...           ...          ...  ...         ...   \n362749   3600.387748           0.0  Indifferent  ...         8.6   \n362750   2280.037298           0.0  Indifferent  ...         NaN   \n362751  14399.381563           1.0  Indifferent  ...         NaN   \n362752   7199.509521           0.0          Yes  ...         0.2   \n362753  14399.381563           1.0  Indifferent  ...         NaN   \n\n       SaturatedFatContent  CholesterolContent SodiumContent  \\\n0                      NaN                 NaN           NaN   \n1                      NaN                 NaN           NaN   \n2                      NaN                 NaN           NaN   \n3                      NaN                 NaN           NaN   \n4                      NaN                 NaN           NaN   \n...                    ...                 ...           ...   \n362749                 4.7                66.5         521.9   \n362750                 NaN                 NaN           NaN   \n362751                 NaN                 NaN           NaN   \n362752                 0.0                 0.0           5.6   \n362753                 NaN                 NaN           NaN   \n\n        CarbohydrateContent  FiberContent SugarContent ProteinContent  \\\n0                       NaN           NaN          NaN            NaN   \n1                       NaN           NaN          NaN            NaN   \n2                       NaN           NaN          NaN            NaN   \n3                       NaN           NaN          NaN            NaN   \n4                       NaN           NaN          NaN            NaN   \n...                     ...           ...          ...            ...   \n362749                 24.8           1.7          3.4            5.6   \n362750                  NaN           NaN          NaN            NaN   \n362751                  NaN           NaN          NaN            NaN   \n362752                 36.2           0.2         33.6            0.2   \n362753                  NaN           NaN          NaN            NaN   \n\n       RecipeServings  RecipeYield  \n0                 NaN          NaN  \n1                 NaN          NaN  \n2                 NaN          NaN  \n3                 NaN          NaN  \n4                 NaN          NaN  \n...               ...          ...  \n362749            8.0          NaN  \n362750            NaN          NaN  \n362751            NaN          NaN  \n362752           16.0     3 quarts  \n362753            NaN          NaN  \n\n[362754 rows x 30 columns]",
      "text/html": "<div>\n<style scoped>\n    .dataframe tbody tr th:only-of-type {\n        vertical-align: middle;\n    }\n\n    .dataframe tbody tr th {\n        vertical-align: top;\n    }\n\n    .dataframe thead th {\n        text-align: right;\n    }\n</style>\n<table border=\"1\" class=\"dataframe\">\n  <thead>\n    <tr style=\"text-align: right;\">\n      <th></th>\n      <th>AuthorId</th>\n      <th>Diet</th>\n      <th>Age</th>\n      <th>RecipeId</th>\n      <th>Rating</th>\n      <th>Like</th>\n      <th>TestSetId</th>\n      <th>Time</th>\n      <th>HighCalories</th>\n      <th>HighProtein</th>\n      <th>...</th>\n      <th>FatContent</th>\n      <th>SaturatedFatContent</th>\n      <th>CholesterolContent</th>\n      <th>SodiumContent</th>\n      <th>CarbohydrateContent</th>\n      <th>FiberContent</th>\n      <th>SugarContent</th>\n      <th>ProteinContent</th>\n      <th>RecipeServings</th>\n      <th>RecipeYield</th>\n    </tr>\n  </thead>\n  <tbody>\n    <tr>\n      <th>0</th>\n      <td>10000120E</td>\n      <td>Vegetarian</td>\n      <td>46</td>\n      <td>2886.0</td>\n      <td>NaN</td>\n      <td>NaN</td>\n      <td>NaN</td>\n      <td>4198.933093</td>\n      <td>1.0</td>\n      <td>Yes</td>\n      <td>...</td>\n      <td>NaN</td>\n      <td>NaN</td>\n      <td>NaN</td>\n      <td>NaN</td>\n      <td>NaN</td>\n      <td>NaN</td>\n      <td>NaN</td>\n      <td>NaN</td>\n      <td>NaN</td>\n      <td>NaN</td>\n    </tr>\n    <tr>\n      <th>1</th>\n      <td>1000014D</td>\n      <td>Vegan</td>\n      <td>18</td>\n      <td>11194.0</td>\n      <td>NaN</td>\n      <td>NaN</td>\n      <td>NaN</td>\n      <td>600.014974</td>\n      <td>0.0</td>\n      <td>Indifferent</td>\n      <td>...</td>\n      <td>NaN</td>\n      <td>NaN</td>\n      <td>NaN</td>\n      <td>NaN</td>\n      <td>NaN</td>\n      <td>NaN</td>\n      <td>NaN</td>\n      <td>NaN</td>\n      <td>NaN</td>\n      <td>NaN</td>\n    </tr>\n    <tr>\n      <th>2</th>\n      <td>1000015A</td>\n      <td>Vegetarian</td>\n      <td>58</td>\n      <td>45809.0</td>\n      <td>NaN</td>\n      <td>NaN</td>\n      <td>NaN</td>\n      <td>14399.381563</td>\n      <td>1.0</td>\n      <td>Indifferent</td>\n      <td>...</td>\n      <td>NaN</td>\n      <td>NaN</td>\n      <td>NaN</td>\n      <td>NaN</td>\n      <td>NaN</td>\n      <td>NaN</td>\n      <td>NaN</td>\n      <td>NaN</td>\n      <td>NaN</td>\n      <td>NaN</td>\n    </tr>\n    <tr>\n      <th>3</th>\n      <td>1000016E</td>\n      <td>Vegetarian</td>\n      <td>32</td>\n      <td>150863.0</td>\n      <td>NaN</td>\n      <td>NaN</td>\n      <td>NaN</td>\n      <td>3600.420005</td>\n      <td>0.0</td>\n      <td>Indifferent</td>\n      <td>...</td>\n      <td>NaN</td>\n      <td>NaN</td>\n      <td>NaN</td>\n      <td>NaN</td>\n      <td>NaN</td>\n      <td>NaN</td>\n      <td>NaN</td>\n      <td>NaN</td>\n      <td>NaN</td>\n      <td>NaN</td>\n    </tr>\n    <tr>\n      <th>4</th>\n      <td>1000027E</td>\n      <td>Vegan</td>\n      <td>61</td>\n      <td>64446.0</td>\n      <td>NaN</td>\n      <td>NaN</td>\n      <td>NaN</td>\n      <td>2099.032638</td>\n      <td>0.0</td>\n      <td>Indifferent</td>\n      <td>...</td>\n      <td>NaN</td>\n      <td>NaN</td>\n      <td>NaN</td>\n      <td>NaN</td>\n      <td>NaN</td>\n      <td>NaN</td>\n      <td>NaN</td>\n      <td>NaN</td>\n      <td>NaN</td>\n      <td>NaN</td>\n    </tr>\n    <tr>\n      <th>...</th>\n      <td>...</td>\n      <td>...</td>\n      <td>...</td>\n      <td>...</td>\n      <td>...</td>\n      <td>...</td>\n      <td>...</td>\n      <td>...</td>\n      <td>...</td>\n      <td>...</td>\n      <td>...</td>\n      <td>...</td>\n      <td>...</td>\n      <td>...</td>\n      <td>...</td>\n      <td>...</td>\n      <td>...</td>\n      <td>...</td>\n      <td>...</td>\n      <td>...</td>\n      <td>...</td>\n    </tr>\n    <tr>\n      <th>362749</th>\n      <td>999917E</td>\n      <td>Vegetarian</td>\n      <td>28</td>\n      <td>169413.0</td>\n      <td>2.0</td>\n      <td>False</td>\n      <td>NaN</td>\n      <td>3600.387748</td>\n      <td>0.0</td>\n      <td>Indifferent</td>\n      <td>...</td>\n      <td>8.6</td>\n      <td>4.7</td>\n      <td>66.5</td>\n      <td>521.9</td>\n      <td>24.8</td>\n      <td>1.7</td>\n      <td>3.4</td>\n      <td>5.6</td>\n      <td>8.0</td>\n      <td>NaN</td>\n    </tr>\n    <tr>\n      <th>362750</th>\n      <td>999936C</td>\n      <td>Omnivore</td>\n      <td>22</td>\n      <td>15072.0</td>\n      <td>NaN</td>\n      <td>NaN</td>\n      <td>NaN</td>\n      <td>2280.037298</td>\n      <td>0.0</td>\n      <td>Indifferent</td>\n      <td>...</td>\n      <td>NaN</td>\n      <td>NaN</td>\n      <td>NaN</td>\n      <td>NaN</td>\n      <td>NaN</td>\n      <td>NaN</td>\n      <td>NaN</td>\n      <td>NaN</td>\n      <td>NaN</td>\n      <td>NaN</td>\n    </tr>\n    <tr>\n      <th>362751</th>\n      <td>99993D</td>\n      <td>Vegetarian</td>\n      <td>58</td>\n      <td>45809.0</td>\n      <td>NaN</td>\n      <td>NaN</td>\n      <td>NaN</td>\n      <td>14399.381563</td>\n      <td>1.0</td>\n      <td>Indifferent</td>\n      <td>...</td>\n      <td>NaN</td>\n      <td>NaN</td>\n      <td>NaN</td>\n      <td>NaN</td>\n      <td>NaN</td>\n      <td>NaN</td>\n      <td>NaN</td>\n      <td>NaN</td>\n      <td>NaN</td>\n      <td>NaN</td>\n    </tr>\n    <tr>\n      <th>362752</th>\n      <td>99994A</td>\n      <td>Vegetarian</td>\n      <td>18</td>\n      <td>373964.0</td>\n      <td>NaN</td>\n      <td>NaN</td>\n      <td>7555.0</td>\n      <td>7199.509521</td>\n      <td>0.0</td>\n      <td>Yes</td>\n      <td>...</td>\n      <td>0.2</td>\n      <td>0.0</td>\n      <td>0.0</td>\n      <td>5.6</td>\n      <td>36.2</td>\n      <td>0.2</td>\n      <td>33.6</td>\n      <td>0.2</td>\n      <td>16.0</td>\n      <td>3 quarts</td>\n    </tr>\n    <tr>\n      <th>362753</th>\n      <td>999991A</td>\n      <td>Vegetarian</td>\n      <td>21</td>\n      <td>45809.0</td>\n      <td>NaN</td>\n      <td>NaN</td>\n      <td>NaN</td>\n      <td>14399.381563</td>\n      <td>1.0</td>\n      <td>Indifferent</td>\n      <td>...</td>\n      <td>NaN</td>\n      <td>NaN</td>\n      <td>NaN</td>\n      <td>NaN</td>\n      <td>NaN</td>\n      <td>NaN</td>\n      <td>NaN</td>\n      <td>NaN</td>\n      <td>NaN</td>\n      <td>NaN</td>\n    </tr>\n  </tbody>\n</table>\n<p>362754 rows × 30 columns</p>\n</div>"
     },
     "execution_count": 211,
     "metadata": {},
     "output_type": "execute_result"
    }
   ],
   "source": [
    "# Fill the rest of the missing values in the merged_diet_all by mapping them from requests.csv with RecipeId as key \n",
    "# Create mapping DataFrames from `requests`\n",
    "map_time = requests.set_index('RecipeId')['Time'].to_dict()\n",
    "map_calories = requests.set_index('RecipeId')['HighCalories'].to_dict()\n",
    "map_protein = requests.set_index('RecipeId')['HighProtein'].to_dict()\n",
    "map_fat = requests.set_index('RecipeId')['LowFat'].to_dict()\n",
    "map_sugar = requests.set_index('RecipeId')['LowSugar'].to_dict()\n",
    "map_fiber = requests.set_index('RecipeId')['HighFiber'].to_dict()\n",
    "\n",
    "# Apply mapping to `merged_diet_all`\n",
    "merged_diet_all['Time'] = merged_diet_all['RecipeId'].map(map_time)\n",
    "merged_diet_all['HighCalories'] = merged_diet_all['RecipeId'].map(map_calories)\n",
    "merged_diet_all['HighProtein'] = merged_diet_all['RecipeId'].map(map_protein)\n",
    "merged_diet_all['LowFat'] = merged_diet_all['RecipeId'].map(map_fat)\n",
    "merged_diet_all['LowSugar'] = merged_diet_all['RecipeId'].map(map_sugar)\n",
    "merged_diet_all['HighFiber'] = merged_diet_all['RecipeId'].map(map_fiber)\n",
    "merged_diet_all    "
   ],
   "metadata": {
    "collapsed": false,
    "ExecuteTime": {
     "end_time": "2024-01-16T22:23:56.055189Z",
     "start_time": "2024-01-16T22:23:54.571562Z"
    }
   },
   "id": "dfc5cbaa679201ad",
   "execution_count": 211
  },
  {
   "cell_type": "markdown",
   "source": [
    "**DONE**"
   ],
   "metadata": {
    "collapsed": false
   },
   "id": "ce4bfb36b4247f4a"
  },
  {
   "cell_type": "code",
   "outputs": [
    {
     "data": {
      "text/plain": "        AuthorId        Diet  Age  RecipeId  Rating   Like  TestSetId  \\\n0              0  Vegetarian   46    2886.0     NaN    NaN        NaN   \n1              1       Vegan   18   11194.0     NaN    NaN        NaN   \n2              2  Vegetarian   58   45809.0     NaN    NaN        NaN   \n3              3  Vegetarian   32  150863.0     NaN    NaN        NaN   \n4              4       Vegan   61   64446.0     NaN    NaN        NaN   \n...          ...         ...  ...       ...     ...    ...        ...   \n362749    271902  Vegetarian   28  169413.0     2.0  False        NaN   \n362750    271903    Omnivore   22   15072.0     NaN    NaN        NaN   \n362751    271904  Vegetarian   58   45809.0     NaN    NaN        NaN   \n362752    271905  Vegetarian   18  373964.0     NaN    NaN     7555.0   \n362753    271906  Vegetarian   21   45809.0     NaN    NaN        NaN   \n\n                Time  HighCalories  HighProtein  ...  FatContent  \\\n0        4198.933093           1.0          Yes  ...         NaN   \n1         600.014974           0.0  Indifferent  ...         NaN   \n2       14399.381563           1.0  Indifferent  ...         NaN   \n3        3600.420005           0.0  Indifferent  ...         NaN   \n4        2099.032638           0.0  Indifferent  ...         NaN   \n...              ...           ...          ...  ...         ...   \n362749   3600.387748           0.0  Indifferent  ...         8.6   \n362750   2280.037298           0.0  Indifferent  ...         NaN   \n362751  14399.381563           1.0  Indifferent  ...         NaN   \n362752   7199.509521           0.0          Yes  ...         0.2   \n362753  14399.381563           1.0  Indifferent  ...         NaN   \n\n       SaturatedFatContent  CholesterolContent SodiumContent  \\\n0                      NaN                 NaN           NaN   \n1                      NaN                 NaN           NaN   \n2                      NaN                 NaN           NaN   \n3                      NaN                 NaN           NaN   \n4                      NaN                 NaN           NaN   \n...                    ...                 ...           ...   \n362749                 4.7                66.5         521.9   \n362750                 NaN                 NaN           NaN   \n362751                 NaN                 NaN           NaN   \n362752                 0.0                 0.0           5.6   \n362753                 NaN                 NaN           NaN   \n\n        CarbohydrateContent  FiberContent SugarContent ProteinContent  \\\n0                       NaN           NaN          NaN            NaN   \n1                       NaN           NaN          NaN            NaN   \n2                       NaN           NaN          NaN            NaN   \n3                       NaN           NaN          NaN            NaN   \n4                       NaN           NaN          NaN            NaN   \n...                     ...           ...          ...            ...   \n362749                 24.8           1.7          3.4            5.6   \n362750                  NaN           NaN          NaN            NaN   \n362751                  NaN           NaN          NaN            NaN   \n362752                 36.2           0.2         33.6            0.2   \n362753                  NaN           NaN          NaN            NaN   \n\n       RecipeServings  RecipeYield  \n0                 NaN          NaN  \n1                 NaN          NaN  \n2                 NaN          NaN  \n3                 NaN          NaN  \n4                 NaN          NaN  \n...               ...          ...  \n362749            8.0          NaN  \n362750            NaN          NaN  \n362751            NaN          NaN  \n362752           16.0     3 quarts  \n362753            NaN          NaN  \n\n[362754 rows x 30 columns]",
      "text/html": "<div>\n<style scoped>\n    .dataframe tbody tr th:only-of-type {\n        vertical-align: middle;\n    }\n\n    .dataframe tbody tr th {\n        vertical-align: top;\n    }\n\n    .dataframe thead th {\n        text-align: right;\n    }\n</style>\n<table border=\"1\" class=\"dataframe\">\n  <thead>\n    <tr style=\"text-align: right;\">\n      <th></th>\n      <th>AuthorId</th>\n      <th>Diet</th>\n      <th>Age</th>\n      <th>RecipeId</th>\n      <th>Rating</th>\n      <th>Like</th>\n      <th>TestSetId</th>\n      <th>Time</th>\n      <th>HighCalories</th>\n      <th>HighProtein</th>\n      <th>...</th>\n      <th>FatContent</th>\n      <th>SaturatedFatContent</th>\n      <th>CholesterolContent</th>\n      <th>SodiumContent</th>\n      <th>CarbohydrateContent</th>\n      <th>FiberContent</th>\n      <th>SugarContent</th>\n      <th>ProteinContent</th>\n      <th>RecipeServings</th>\n      <th>RecipeYield</th>\n    </tr>\n  </thead>\n  <tbody>\n    <tr>\n      <th>0</th>\n      <td>0</td>\n      <td>Vegetarian</td>\n      <td>46</td>\n      <td>2886.0</td>\n      <td>NaN</td>\n      <td>NaN</td>\n      <td>NaN</td>\n      <td>4198.933093</td>\n      <td>1.0</td>\n      <td>Yes</td>\n      <td>...</td>\n      <td>NaN</td>\n      <td>NaN</td>\n      <td>NaN</td>\n      <td>NaN</td>\n      <td>NaN</td>\n      <td>NaN</td>\n      <td>NaN</td>\n      <td>NaN</td>\n      <td>NaN</td>\n      <td>NaN</td>\n    </tr>\n    <tr>\n      <th>1</th>\n      <td>1</td>\n      <td>Vegan</td>\n      <td>18</td>\n      <td>11194.0</td>\n      <td>NaN</td>\n      <td>NaN</td>\n      <td>NaN</td>\n      <td>600.014974</td>\n      <td>0.0</td>\n      <td>Indifferent</td>\n      <td>...</td>\n      <td>NaN</td>\n      <td>NaN</td>\n      <td>NaN</td>\n      <td>NaN</td>\n      <td>NaN</td>\n      <td>NaN</td>\n      <td>NaN</td>\n      <td>NaN</td>\n      <td>NaN</td>\n      <td>NaN</td>\n    </tr>\n    <tr>\n      <th>2</th>\n      <td>2</td>\n      <td>Vegetarian</td>\n      <td>58</td>\n      <td>45809.0</td>\n      <td>NaN</td>\n      <td>NaN</td>\n      <td>NaN</td>\n      <td>14399.381563</td>\n      <td>1.0</td>\n      <td>Indifferent</td>\n      <td>...</td>\n      <td>NaN</td>\n      <td>NaN</td>\n      <td>NaN</td>\n      <td>NaN</td>\n      <td>NaN</td>\n      <td>NaN</td>\n      <td>NaN</td>\n      <td>NaN</td>\n      <td>NaN</td>\n      <td>NaN</td>\n    </tr>\n    <tr>\n      <th>3</th>\n      <td>3</td>\n      <td>Vegetarian</td>\n      <td>32</td>\n      <td>150863.0</td>\n      <td>NaN</td>\n      <td>NaN</td>\n      <td>NaN</td>\n      <td>3600.420005</td>\n      <td>0.0</td>\n      <td>Indifferent</td>\n      <td>...</td>\n      <td>NaN</td>\n      <td>NaN</td>\n      <td>NaN</td>\n      <td>NaN</td>\n      <td>NaN</td>\n      <td>NaN</td>\n      <td>NaN</td>\n      <td>NaN</td>\n      <td>NaN</td>\n      <td>NaN</td>\n    </tr>\n    <tr>\n      <th>4</th>\n      <td>4</td>\n      <td>Vegan</td>\n      <td>61</td>\n      <td>64446.0</td>\n      <td>NaN</td>\n      <td>NaN</td>\n      <td>NaN</td>\n      <td>2099.032638</td>\n      <td>0.0</td>\n      <td>Indifferent</td>\n      <td>...</td>\n      <td>NaN</td>\n      <td>NaN</td>\n      <td>NaN</td>\n      <td>NaN</td>\n      <td>NaN</td>\n      <td>NaN</td>\n      <td>NaN</td>\n      <td>NaN</td>\n      <td>NaN</td>\n      <td>NaN</td>\n    </tr>\n    <tr>\n      <th>...</th>\n      <td>...</td>\n      <td>...</td>\n      <td>...</td>\n      <td>...</td>\n      <td>...</td>\n      <td>...</td>\n      <td>...</td>\n      <td>...</td>\n      <td>...</td>\n      <td>...</td>\n      <td>...</td>\n      <td>...</td>\n      <td>...</td>\n      <td>...</td>\n      <td>...</td>\n      <td>...</td>\n      <td>...</td>\n      <td>...</td>\n      <td>...</td>\n      <td>...</td>\n      <td>...</td>\n    </tr>\n    <tr>\n      <th>362749</th>\n      <td>271902</td>\n      <td>Vegetarian</td>\n      <td>28</td>\n      <td>169413.0</td>\n      <td>2.0</td>\n      <td>False</td>\n      <td>NaN</td>\n      <td>3600.387748</td>\n      <td>0.0</td>\n      <td>Indifferent</td>\n      <td>...</td>\n      <td>8.6</td>\n      <td>4.7</td>\n      <td>66.5</td>\n      <td>521.9</td>\n      <td>24.8</td>\n      <td>1.7</td>\n      <td>3.4</td>\n      <td>5.6</td>\n      <td>8.0</td>\n      <td>NaN</td>\n    </tr>\n    <tr>\n      <th>362750</th>\n      <td>271903</td>\n      <td>Omnivore</td>\n      <td>22</td>\n      <td>15072.0</td>\n      <td>NaN</td>\n      <td>NaN</td>\n      <td>NaN</td>\n      <td>2280.037298</td>\n      <td>0.0</td>\n      <td>Indifferent</td>\n      <td>...</td>\n      <td>NaN</td>\n      <td>NaN</td>\n      <td>NaN</td>\n      <td>NaN</td>\n      <td>NaN</td>\n      <td>NaN</td>\n      <td>NaN</td>\n      <td>NaN</td>\n      <td>NaN</td>\n      <td>NaN</td>\n    </tr>\n    <tr>\n      <th>362751</th>\n      <td>271904</td>\n      <td>Vegetarian</td>\n      <td>58</td>\n      <td>45809.0</td>\n      <td>NaN</td>\n      <td>NaN</td>\n      <td>NaN</td>\n      <td>14399.381563</td>\n      <td>1.0</td>\n      <td>Indifferent</td>\n      <td>...</td>\n      <td>NaN</td>\n      <td>NaN</td>\n      <td>NaN</td>\n      <td>NaN</td>\n      <td>NaN</td>\n      <td>NaN</td>\n      <td>NaN</td>\n      <td>NaN</td>\n      <td>NaN</td>\n      <td>NaN</td>\n    </tr>\n    <tr>\n      <th>362752</th>\n      <td>271905</td>\n      <td>Vegetarian</td>\n      <td>18</td>\n      <td>373964.0</td>\n      <td>NaN</td>\n      <td>NaN</td>\n      <td>7555.0</td>\n      <td>7199.509521</td>\n      <td>0.0</td>\n      <td>Yes</td>\n      <td>...</td>\n      <td>0.2</td>\n      <td>0.0</td>\n      <td>0.0</td>\n      <td>5.6</td>\n      <td>36.2</td>\n      <td>0.2</td>\n      <td>33.6</td>\n      <td>0.2</td>\n      <td>16.0</td>\n      <td>3 quarts</td>\n    </tr>\n    <tr>\n      <th>362753</th>\n      <td>271906</td>\n      <td>Vegetarian</td>\n      <td>21</td>\n      <td>45809.0</td>\n      <td>NaN</td>\n      <td>NaN</td>\n      <td>NaN</td>\n      <td>14399.381563</td>\n      <td>1.0</td>\n      <td>Indifferent</td>\n      <td>...</td>\n      <td>NaN</td>\n      <td>NaN</td>\n      <td>NaN</td>\n      <td>NaN</td>\n      <td>NaN</td>\n      <td>NaN</td>\n      <td>NaN</td>\n      <td>NaN</td>\n      <td>NaN</td>\n      <td>NaN</td>\n    </tr>\n  </tbody>\n</table>\n<p>362754 rows × 30 columns</p>\n</div>"
     },
     "execution_count": 215,
     "metadata": {},
     "output_type": "execute_result"
    }
   ],
   "source": [
    "final_data = merged_diet_all\n",
    "final_data['AuthorId'], unique_authorids = pd.factorize(final_data['AuthorId'])\n",
    "\n",
    "final_data\n"
   ],
   "metadata": {
    "collapsed": false,
    "ExecuteTime": {
     "end_time": "2024-01-16T22:27:03.360677Z",
     "start_time": "2024-01-16T22:27:03.062891Z"
    }
   },
   "id": "61303a62f5e8933d",
   "execution_count": 215
  },
  {
   "cell_type": "markdown",
   "source": [
    "Data Visualization"
   ],
   "metadata": {
    "collapsed": false
   },
   "id": "b4db8bf23cd2172e"
  },
  {
   "cell_type": "markdown",
   "source": [
    "Random Forest Classifier"
   ],
   "metadata": {
    "collapsed": false
   },
   "id": "9773fae63235802f"
  },
  {
   "cell_type": "code",
   "outputs": [],
   "source": [
    "# Step 1: Import necessary libraries\n",
    "from sklearn.model_selection import train_test_split\n",
    "from sklearn.ensemble import RandomForestClassifier\n",
    "from sklearn.metrics import accuracy_score, classification_report"
   ],
   "metadata": {
    "collapsed": false,
    "ExecuteTime": {
     "end_time": "2024-01-16T22:24:00.677754Z",
     "start_time": "2024-01-16T22:24:00.628100Z"
    }
   },
   "id": "1bcaf8cb7721628b",
   "execution_count": 213
  },
  {
   "cell_type": "code",
   "outputs": [
    {
     "ename": "FileNotFoundError",
     "evalue": "[Errno 2] No such file or directory: 'cleaned_data.csv'",
     "output_type": "error",
     "traceback": [
      "\u001B[0;31m---------------------------------------------------------------------------\u001B[0m",
      "\u001B[0;31mFileNotFoundError\u001B[0m                         Traceback (most recent call last)",
      "Cell \u001B[0;32mIn[214], line 10\u001B[0m\n\u001B[1;32m      7\u001B[0m     y \u001B[38;5;241m=\u001B[39m data[\u001B[38;5;124m'\u001B[39m\u001B[38;5;124mtarget_column\u001B[39m\u001B[38;5;124m'\u001B[39m]\n\u001B[1;32m      8\u001B[0m     \u001B[38;5;28;01mreturn\u001B[39;00m X, y\n\u001B[0;32m---> 10\u001B[0m X, y \u001B[38;5;241m=\u001B[39m \u001B[43mload_cleaned_data\u001B[49m\u001B[43m(\u001B[49m\u001B[43m)\u001B[49m\n",
      "Cell \u001B[0;32mIn[214], line 5\u001B[0m, in \u001B[0;36mload_cleaned_data\u001B[0;34m()\u001B[0m\n\u001B[1;32m      2\u001B[0m \u001B[38;5;28;01mdef\u001B[39;00m \u001B[38;5;21mload_cleaned_data\u001B[39m():\n\u001B[1;32m      3\u001B[0m     \u001B[38;5;66;03m# Replace this function with your data loading and cleaning logic\u001B[39;00m\n\u001B[1;32m      4\u001B[0m     \u001B[38;5;66;03m# Example assumes X contains features and y contains labels\u001B[39;00m\n\u001B[0;32m----> 5\u001B[0m     data \u001B[38;5;241m=\u001B[39m \u001B[43mpd\u001B[49m\u001B[38;5;241;43m.\u001B[39;49m\u001B[43mread_csv\u001B[49m\u001B[43m(\u001B[49m\u001B[38;5;124;43m'\u001B[39;49m\u001B[38;5;124;43mcleaned_data.csv\u001B[39;49m\u001B[38;5;124;43m'\u001B[39;49m\u001B[43m)\u001B[49m \u001B[38;5;66;03m# can also pass a data frame\u001B[39;00m\n\u001B[1;32m      6\u001B[0m     X \u001B[38;5;241m=\u001B[39m data\u001B[38;5;241m.\u001B[39mdrop(\u001B[38;5;124m'\u001B[39m\u001B[38;5;124mtarget_column\u001B[39m\u001B[38;5;124m'\u001B[39m, axis\u001B[38;5;241m=\u001B[39m\u001B[38;5;241m1\u001B[39m)\n\u001B[1;32m      7\u001B[0m     y \u001B[38;5;241m=\u001B[39m data[\u001B[38;5;124m'\u001B[39m\u001B[38;5;124mtarget_column\u001B[39m\u001B[38;5;124m'\u001B[39m]\n",
      "File \u001B[0;32m~/AnalyticsCup_skilledShark/lib/python3.11/site-packages/pandas/io/parsers/readers.py:948\u001B[0m, in \u001B[0;36mread_csv\u001B[0;34m(filepath_or_buffer, sep, delimiter, header, names, index_col, usecols, dtype, engine, converters, true_values, false_values, skipinitialspace, skiprows, skipfooter, nrows, na_values, keep_default_na, na_filter, verbose, skip_blank_lines, parse_dates, infer_datetime_format, keep_date_col, date_parser, date_format, dayfirst, cache_dates, iterator, chunksize, compression, thousands, decimal, lineterminator, quotechar, quoting, doublequote, escapechar, comment, encoding, encoding_errors, dialect, on_bad_lines, delim_whitespace, low_memory, memory_map, float_precision, storage_options, dtype_backend)\u001B[0m\n\u001B[1;32m    935\u001B[0m kwds_defaults \u001B[38;5;241m=\u001B[39m _refine_defaults_read(\n\u001B[1;32m    936\u001B[0m     dialect,\n\u001B[1;32m    937\u001B[0m     delimiter,\n\u001B[0;32m   (...)\u001B[0m\n\u001B[1;32m    944\u001B[0m     dtype_backend\u001B[38;5;241m=\u001B[39mdtype_backend,\n\u001B[1;32m    945\u001B[0m )\n\u001B[1;32m    946\u001B[0m kwds\u001B[38;5;241m.\u001B[39mupdate(kwds_defaults)\n\u001B[0;32m--> 948\u001B[0m \u001B[38;5;28;01mreturn\u001B[39;00m \u001B[43m_read\u001B[49m\u001B[43m(\u001B[49m\u001B[43mfilepath_or_buffer\u001B[49m\u001B[43m,\u001B[49m\u001B[43m \u001B[49m\u001B[43mkwds\u001B[49m\u001B[43m)\u001B[49m\n",
      "File \u001B[0;32m~/AnalyticsCup_skilledShark/lib/python3.11/site-packages/pandas/io/parsers/readers.py:611\u001B[0m, in \u001B[0;36m_read\u001B[0;34m(filepath_or_buffer, kwds)\u001B[0m\n\u001B[1;32m    608\u001B[0m _validate_names(kwds\u001B[38;5;241m.\u001B[39mget(\u001B[38;5;124m\"\u001B[39m\u001B[38;5;124mnames\u001B[39m\u001B[38;5;124m\"\u001B[39m, \u001B[38;5;28;01mNone\u001B[39;00m))\n\u001B[1;32m    610\u001B[0m \u001B[38;5;66;03m# Create the parser.\u001B[39;00m\n\u001B[0;32m--> 611\u001B[0m parser \u001B[38;5;241m=\u001B[39m \u001B[43mTextFileReader\u001B[49m\u001B[43m(\u001B[49m\u001B[43mfilepath_or_buffer\u001B[49m\u001B[43m,\u001B[49m\u001B[43m \u001B[49m\u001B[38;5;241;43m*\u001B[39;49m\u001B[38;5;241;43m*\u001B[39;49m\u001B[43mkwds\u001B[49m\u001B[43m)\u001B[49m\n\u001B[1;32m    613\u001B[0m \u001B[38;5;28;01mif\u001B[39;00m chunksize \u001B[38;5;129;01mor\u001B[39;00m iterator:\n\u001B[1;32m    614\u001B[0m     \u001B[38;5;28;01mreturn\u001B[39;00m parser\n",
      "File \u001B[0;32m~/AnalyticsCup_skilledShark/lib/python3.11/site-packages/pandas/io/parsers/readers.py:1448\u001B[0m, in \u001B[0;36mTextFileReader.__init__\u001B[0;34m(self, f, engine, **kwds)\u001B[0m\n\u001B[1;32m   1445\u001B[0m     \u001B[38;5;28mself\u001B[39m\u001B[38;5;241m.\u001B[39moptions[\u001B[38;5;124m\"\u001B[39m\u001B[38;5;124mhas_index_names\u001B[39m\u001B[38;5;124m\"\u001B[39m] \u001B[38;5;241m=\u001B[39m kwds[\u001B[38;5;124m\"\u001B[39m\u001B[38;5;124mhas_index_names\u001B[39m\u001B[38;5;124m\"\u001B[39m]\n\u001B[1;32m   1447\u001B[0m \u001B[38;5;28mself\u001B[39m\u001B[38;5;241m.\u001B[39mhandles: IOHandles \u001B[38;5;241m|\u001B[39m \u001B[38;5;28;01mNone\u001B[39;00m \u001B[38;5;241m=\u001B[39m \u001B[38;5;28;01mNone\u001B[39;00m\n\u001B[0;32m-> 1448\u001B[0m \u001B[38;5;28mself\u001B[39m\u001B[38;5;241m.\u001B[39m_engine \u001B[38;5;241m=\u001B[39m \u001B[38;5;28;43mself\u001B[39;49m\u001B[38;5;241;43m.\u001B[39;49m\u001B[43m_make_engine\u001B[49m\u001B[43m(\u001B[49m\u001B[43mf\u001B[49m\u001B[43m,\u001B[49m\u001B[43m \u001B[49m\u001B[38;5;28;43mself\u001B[39;49m\u001B[38;5;241;43m.\u001B[39;49m\u001B[43mengine\u001B[49m\u001B[43m)\u001B[49m\n",
      "File \u001B[0;32m~/AnalyticsCup_skilledShark/lib/python3.11/site-packages/pandas/io/parsers/readers.py:1705\u001B[0m, in \u001B[0;36mTextFileReader._make_engine\u001B[0;34m(self, f, engine)\u001B[0m\n\u001B[1;32m   1703\u001B[0m     \u001B[38;5;28;01mif\u001B[39;00m \u001B[38;5;124m\"\u001B[39m\u001B[38;5;124mb\u001B[39m\u001B[38;5;124m\"\u001B[39m \u001B[38;5;129;01mnot\u001B[39;00m \u001B[38;5;129;01min\u001B[39;00m mode:\n\u001B[1;32m   1704\u001B[0m         mode \u001B[38;5;241m+\u001B[39m\u001B[38;5;241m=\u001B[39m \u001B[38;5;124m\"\u001B[39m\u001B[38;5;124mb\u001B[39m\u001B[38;5;124m\"\u001B[39m\n\u001B[0;32m-> 1705\u001B[0m \u001B[38;5;28mself\u001B[39m\u001B[38;5;241m.\u001B[39mhandles \u001B[38;5;241m=\u001B[39m \u001B[43mget_handle\u001B[49m\u001B[43m(\u001B[49m\n\u001B[1;32m   1706\u001B[0m \u001B[43m    \u001B[49m\u001B[43mf\u001B[49m\u001B[43m,\u001B[49m\n\u001B[1;32m   1707\u001B[0m \u001B[43m    \u001B[49m\u001B[43mmode\u001B[49m\u001B[43m,\u001B[49m\n\u001B[1;32m   1708\u001B[0m \u001B[43m    \u001B[49m\u001B[43mencoding\u001B[49m\u001B[38;5;241;43m=\u001B[39;49m\u001B[38;5;28;43mself\u001B[39;49m\u001B[38;5;241;43m.\u001B[39;49m\u001B[43moptions\u001B[49m\u001B[38;5;241;43m.\u001B[39;49m\u001B[43mget\u001B[49m\u001B[43m(\u001B[49m\u001B[38;5;124;43m\"\u001B[39;49m\u001B[38;5;124;43mencoding\u001B[39;49m\u001B[38;5;124;43m\"\u001B[39;49m\u001B[43m,\u001B[49m\u001B[43m \u001B[49m\u001B[38;5;28;43;01mNone\u001B[39;49;00m\u001B[43m)\u001B[49m\u001B[43m,\u001B[49m\n\u001B[1;32m   1709\u001B[0m \u001B[43m    \u001B[49m\u001B[43mcompression\u001B[49m\u001B[38;5;241;43m=\u001B[39;49m\u001B[38;5;28;43mself\u001B[39;49m\u001B[38;5;241;43m.\u001B[39;49m\u001B[43moptions\u001B[49m\u001B[38;5;241;43m.\u001B[39;49m\u001B[43mget\u001B[49m\u001B[43m(\u001B[49m\u001B[38;5;124;43m\"\u001B[39;49m\u001B[38;5;124;43mcompression\u001B[39;49m\u001B[38;5;124;43m\"\u001B[39;49m\u001B[43m,\u001B[49m\u001B[43m \u001B[49m\u001B[38;5;28;43;01mNone\u001B[39;49;00m\u001B[43m)\u001B[49m\u001B[43m,\u001B[49m\n\u001B[1;32m   1710\u001B[0m \u001B[43m    \u001B[49m\u001B[43mmemory_map\u001B[49m\u001B[38;5;241;43m=\u001B[39;49m\u001B[38;5;28;43mself\u001B[39;49m\u001B[38;5;241;43m.\u001B[39;49m\u001B[43moptions\u001B[49m\u001B[38;5;241;43m.\u001B[39;49m\u001B[43mget\u001B[49m\u001B[43m(\u001B[49m\u001B[38;5;124;43m\"\u001B[39;49m\u001B[38;5;124;43mmemory_map\u001B[39;49m\u001B[38;5;124;43m\"\u001B[39;49m\u001B[43m,\u001B[49m\u001B[43m \u001B[49m\u001B[38;5;28;43;01mFalse\u001B[39;49;00m\u001B[43m)\u001B[49m\u001B[43m,\u001B[49m\n\u001B[1;32m   1711\u001B[0m \u001B[43m    \u001B[49m\u001B[43mis_text\u001B[49m\u001B[38;5;241;43m=\u001B[39;49m\u001B[43mis_text\u001B[49m\u001B[43m,\u001B[49m\n\u001B[1;32m   1712\u001B[0m \u001B[43m    \u001B[49m\u001B[43merrors\u001B[49m\u001B[38;5;241;43m=\u001B[39;49m\u001B[38;5;28;43mself\u001B[39;49m\u001B[38;5;241;43m.\u001B[39;49m\u001B[43moptions\u001B[49m\u001B[38;5;241;43m.\u001B[39;49m\u001B[43mget\u001B[49m\u001B[43m(\u001B[49m\u001B[38;5;124;43m\"\u001B[39;49m\u001B[38;5;124;43mencoding_errors\u001B[39;49m\u001B[38;5;124;43m\"\u001B[39;49m\u001B[43m,\u001B[49m\u001B[43m \u001B[49m\u001B[38;5;124;43m\"\u001B[39;49m\u001B[38;5;124;43mstrict\u001B[39;49m\u001B[38;5;124;43m\"\u001B[39;49m\u001B[43m)\u001B[49m\u001B[43m,\u001B[49m\n\u001B[1;32m   1713\u001B[0m \u001B[43m    \u001B[49m\u001B[43mstorage_options\u001B[49m\u001B[38;5;241;43m=\u001B[39;49m\u001B[38;5;28;43mself\u001B[39;49m\u001B[38;5;241;43m.\u001B[39;49m\u001B[43moptions\u001B[49m\u001B[38;5;241;43m.\u001B[39;49m\u001B[43mget\u001B[49m\u001B[43m(\u001B[49m\u001B[38;5;124;43m\"\u001B[39;49m\u001B[38;5;124;43mstorage_options\u001B[39;49m\u001B[38;5;124;43m\"\u001B[39;49m\u001B[43m,\u001B[49m\u001B[43m \u001B[49m\u001B[38;5;28;43;01mNone\u001B[39;49;00m\u001B[43m)\u001B[49m\u001B[43m,\u001B[49m\n\u001B[1;32m   1714\u001B[0m \u001B[43m\u001B[49m\u001B[43m)\u001B[49m\n\u001B[1;32m   1715\u001B[0m \u001B[38;5;28;01massert\u001B[39;00m \u001B[38;5;28mself\u001B[39m\u001B[38;5;241m.\u001B[39mhandles \u001B[38;5;129;01mis\u001B[39;00m \u001B[38;5;129;01mnot\u001B[39;00m \u001B[38;5;28;01mNone\u001B[39;00m\n\u001B[1;32m   1716\u001B[0m f \u001B[38;5;241m=\u001B[39m \u001B[38;5;28mself\u001B[39m\u001B[38;5;241m.\u001B[39mhandles\u001B[38;5;241m.\u001B[39mhandle\n",
      "File \u001B[0;32m~/AnalyticsCup_skilledShark/lib/python3.11/site-packages/pandas/io/common.py:863\u001B[0m, in \u001B[0;36mget_handle\u001B[0;34m(path_or_buf, mode, encoding, compression, memory_map, is_text, errors, storage_options)\u001B[0m\n\u001B[1;32m    858\u001B[0m \u001B[38;5;28;01melif\u001B[39;00m \u001B[38;5;28misinstance\u001B[39m(handle, \u001B[38;5;28mstr\u001B[39m):\n\u001B[1;32m    859\u001B[0m     \u001B[38;5;66;03m# Check whether the filename is to be opened in binary mode.\u001B[39;00m\n\u001B[1;32m    860\u001B[0m     \u001B[38;5;66;03m# Binary mode does not support 'encoding' and 'newline'.\u001B[39;00m\n\u001B[1;32m    861\u001B[0m     \u001B[38;5;28;01mif\u001B[39;00m ioargs\u001B[38;5;241m.\u001B[39mencoding \u001B[38;5;129;01mand\u001B[39;00m \u001B[38;5;124m\"\u001B[39m\u001B[38;5;124mb\u001B[39m\u001B[38;5;124m\"\u001B[39m \u001B[38;5;129;01mnot\u001B[39;00m \u001B[38;5;129;01min\u001B[39;00m ioargs\u001B[38;5;241m.\u001B[39mmode:\n\u001B[1;32m    862\u001B[0m         \u001B[38;5;66;03m# Encoding\u001B[39;00m\n\u001B[0;32m--> 863\u001B[0m         handle \u001B[38;5;241m=\u001B[39m \u001B[38;5;28mopen\u001B[39m(\n\u001B[1;32m    864\u001B[0m             handle,\n\u001B[1;32m    865\u001B[0m             ioargs\u001B[38;5;241m.\u001B[39mmode,\n\u001B[1;32m    866\u001B[0m             encoding\u001B[38;5;241m=\u001B[39mioargs\u001B[38;5;241m.\u001B[39mencoding,\n\u001B[1;32m    867\u001B[0m             errors\u001B[38;5;241m=\u001B[39merrors,\n\u001B[1;32m    868\u001B[0m             newline\u001B[38;5;241m=\u001B[39m\u001B[38;5;124m\"\u001B[39m\u001B[38;5;124m\"\u001B[39m,\n\u001B[1;32m    869\u001B[0m         )\n\u001B[1;32m    870\u001B[0m     \u001B[38;5;28;01melse\u001B[39;00m:\n\u001B[1;32m    871\u001B[0m         \u001B[38;5;66;03m# Binary mode\u001B[39;00m\n\u001B[1;32m    872\u001B[0m         handle \u001B[38;5;241m=\u001B[39m \u001B[38;5;28mopen\u001B[39m(handle, ioargs\u001B[38;5;241m.\u001B[39mmode)\n",
      "\u001B[0;31mFileNotFoundError\u001B[0m: [Errno 2] No such file or directory: 'cleaned_data.csv'"
     ]
    }
   ],
   "source": [
    "# Step 2: Load cleaned data\n",
    "def load_cleaned_data():\n",
    "    # Replace this function with your data loading and cleaning logic\n",
    "    # Example assumes X contains features and y contains labels\n",
    "    data = pd.read_csv('cleaned_data.csv') # can also pass a data frame\n",
    "    X = data.drop('target_column', axis=1)\n",
    "    y = data['target_column']\n",
    "    return X, y\n",
    "\n",
    "X, y = load_cleaned_data()"
   ],
   "metadata": {
    "collapsed": false,
    "ExecuteTime": {
     "end_time": "2024-01-16T22:24:00.755116Z",
     "start_time": "2024-01-16T22:24:00.647095Z"
    }
   },
   "id": "313e8a6d2454e723",
   "execution_count": 214
  },
  {
   "cell_type": "code",
   "outputs": [],
   "source": [
    "# Step 3: Split data into training and testing sets\n",
    "X_train, X_test, y_train, y_test = train_test_split(X, y, test_size=0.2, random_state=42)"
   ],
   "metadata": {
    "collapsed": false,
    "ExecuteTime": {
     "start_time": "2024-01-16T22:24:00.748362Z"
    }
   },
   "id": "fda34e9945aded03",
   "execution_count": null
  },
  {
   "cell_type": "code",
   "outputs": [],
   "source": [
    "# Step 4: Choose a Random Forest Classifier model\n",
    "rf_model = RandomForestClassifier(n_estimators=100, random_state=42)"
   ],
   "metadata": {
    "collapsed": false,
    "ExecuteTime": {
     "start_time": "2024-01-16T22:24:00.750444Z"
    }
   },
   "id": "e5032328b9e576ba",
   "execution_count": null
  },
  {
   "cell_type": "code",
   "outputs": [],
   "source": [
    "# Step 5: Train the model\n",
    "rf_model.fit(X_train, y_train)"
   ],
   "metadata": {
    "collapsed": false,
    "ExecuteTime": {
     "start_time": "2024-01-16T22:24:00.751767Z"
    }
   },
   "id": "ebca72cc7a623581",
   "execution_count": null
  },
  {
   "cell_type": "code",
   "outputs": [],
   "source": [
    "# Step 6: Make predictions on the test set\n",
    "predictions = rf_model.predict(X_test)"
   ],
   "metadata": {
    "collapsed": false,
    "ExecuteTime": {
     "start_time": "2024-01-16T22:24:00.753317Z"
    }
   },
   "id": "d7123d438d18486c",
   "execution_count": null
  },
  {
   "cell_type": "code",
   "outputs": [],
   "source": [
    "# Step 7: Evaluate the model\n",
    "accuracy = accuracy_score(y_test, predictions)\n",
    "report = classification_report(y_test, predictions)\n",
    "print(f\"Accuracy: {accuracy}\")\n",
    "print(f\"Classification Report:\\n{report}\")"
   ],
   "metadata": {
    "collapsed": false,
    "ExecuteTime": {
     "start_time": "2024-01-16T22:24:00.754311Z"
    }
   },
   "id": "2b427e9aed9bcfb2",
   "execution_count": null
  }
 ],
 "metadata": {
  "kernelspec": {
   "display_name": "Python 3",
   "language": "python",
   "name": "python3"
  },
  "language_info": {
   "codemirror_mode": {
    "name": "ipython",
    "version": 2
   },
   "file_extension": ".py",
   "mimetype": "text/x-python",
   "name": "python",
   "nbconvert_exporter": "python",
   "pygments_lexer": "ipython2",
   "version": "2.7.6"
  }
 },
 "nbformat": 4,
 "nbformat_minor": 5
}
