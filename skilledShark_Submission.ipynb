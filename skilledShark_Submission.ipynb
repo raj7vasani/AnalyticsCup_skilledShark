{
 "cells": [
  {
   "cell_type": "code",
   "outputs": [],
   "source": [
    "import pandas as pd\n",
    "import numpy as np\n",
    "\n",
    "import matplotlib.pyplot as plt\n",
    "import seaborn as sns\n",
    "\n",
    "# Note: The following do not work with Python 3.12\n",
    "import shap\n",
    "from ydata_profiling import ProfileReport\n",
    "import sweetviz as sv"
   ],
   "metadata": {
    "collapsed": false
   },
   "id": "3e7f6e1829d5e80"
  },
  {
   "cell_type": "markdown",
   "source": [
    "Reproducibility:"
   ],
   "metadata": {
    "collapsed": false
   },
   "id": "a2a5206a341a7e83"
  },
  {
   "cell_type": "code",
   "outputs": [],
   "source": [
    "seed = 2024\n",
    "\n",
    "# pandas, statsmodels, matplotlib and y_data_profiling rely on numpy's random generator, and thus, we need to set the seed in numpy\n",
    "np.random.seed(seed)"
   ],
   "metadata": {
    "collapsed": false
   },
   "id": "7968b2113b1b14b4"
  },
  {
   "cell_type": "code",
   "outputs": [],
   "source": [
    "diet = pd.read_csv('diet.csv', low_memory=False)\n",
    "requests = pd.read_csv('requests.csv', low_memory=False)\n",
    "reviews = pd.read_csv('reviews.csv', low_memory=False)\n",
    "reviews['Rating'].unique()"
   ],
   "metadata": {
    "collapsed": false
   },
   "id": "aec1aa9afa6cf53c"
  },
  {
   "cell_type": "markdown",
   "source": [
    "Changing the object data types"
   ],
   "metadata": {
    "collapsed": false
   },
   "id": "c85df0632a0a6ccf"
  },
  {
   "cell_type": "code",
   "outputs": [],
   "source": [
    "diet['Diet'] = diet['Diet'].astype('category')\n",
    "requests['HighProtein'] = requests['HighProtein'].astype('category')\n",
    "requests['LowSugar'] = requests['LowSugar'].astype('category')"
   ],
   "metadata": {
    "collapsed": false
   },
   "id": "3b78cc72df27259f"
  },
  {
   "cell_type": "markdown",
   "source": [
    "Data Joining using common attributes"
   ],
   "metadata": {
    "collapsed": false
   },
   "id": "b4d5b3ee5b2f3d37"
  },
  {
   "cell_type": "code",
   "outputs": [],
   "source": [
    "author_ID = 'AuthorId'\n",
    "merged_diet_requests = pd.merge(diet, requests, on=author_ID, how='left')\n",
    "merged_diet_requests"
   ],
   "metadata": {
    "collapsed": false
   },
   "id": "251f7817499f9cd"
  },
  {
   "cell_type": "code",
   "outputs": [],
   "source": [
    "merged_diet_requests.to_csv('merged_diet_requests.csv')"
   ],
   "metadata": {
    "collapsed": false
   },
   "id": "b6c89bfb21cea76e"
  },
  {
   "cell_type": "markdown",
   "source": [],
   "metadata": {
    "collapsed": false
   },
   "id": "eb9c2a7da253880c"
  },
  {
   "cell_type": "markdown",
   "source": [
    "Impute the missing values"
   ],
   "metadata": {
    "collapsed": false
   },
   "id": "41e0f84af7632b75"
  },
  {
   "cell_type": "code",
   "outputs": [],
   "source": [
    "merged_diet_requests['Diet'] = merged_diet_requests['Diet'].fillna('Vegetarian')\n",
    "merged_diet_requests_cleaned = merged_diet_requests.dropna(subset=['RecipeId'])\n",
    "merged_diet_requests_cleaned"
   ],
   "metadata": {
    "collapsed": false
   },
   "id": "d4cd244818a9754c"
  },
  {
   "cell_type": "markdown",
   "source": [
    "Merge the file with reviews column to include 'likes' column"
   ],
   "metadata": {
    "collapsed": false
   },
   "id": "33d7c9e5bdc05fb5"
  },
  {
   "cell_type": "code",
   "outputs": [],
   "source": [
    "merged_data = merged_diet_requests_cleaned.merge(reviews, how='inner', on='AuthorId')\n",
    "merged_data"
   ],
   "metadata": {
    "collapsed": false
   },
   "id": "66faf8c272fb4155"
  },
  {
   "cell_type": "markdown",
   "source": [
    "Data Visualization"
   ],
   "metadata": {
    "collapsed": false
   },
   "id": "e2d43b5f7d7094fd"
  },
  {
   "cell_type": "markdown",
   "source": [
    "Diet"
   ],
   "metadata": {
    "collapsed": false
   },
   "id": "8e2a47f732516675"
  },
  {
   "cell_type": "code",
   "outputs": [],
   "source": [
    "# load the data\n",
    "file_path = \"diet.csv\"\n",
    "df = pd.read_csv(file_path)"
   ],
   "metadata": {
    "collapsed": false
   },
   "id": "cb4feb87a076576a"
  },
  {
   "cell_type": "code",
   "outputs": [],
   "source": [
    "# have a look at the data and its attributes\n",
    "print(df.sample(10))"
   ],
   "metadata": {
    "collapsed": false
   },
   "id": "fd65ee729e225c4c"
  },
  {
   "cell_type": "code",
   "outputs": [],
   "source": [
    "# get a general overview over data, check for missing values, etc.\n",
    "print(df.info())"
   ],
   "metadata": {
    "collapsed": false
   },
   "id": "27314a55d6538d9c"
  },
  {
   "cell_type": "code",
   "outputs": [],
   "source": [
    "# have a look at common statistics of the dataset\n",
    "print(df.describe())\n",
    "sns.boxplot(df);"
   ],
   "metadata": {
    "collapsed": false
   },
   "id": "45d505a9cffd156a"
  },
  {
   "cell_type": "code",
   "outputs": [],
   "source": [
    "# check the balancing of classes/labels\n",
    "print(df.groupby(\"Diet\").size())"
   ],
   "metadata": {
    "collapsed": false
   },
   "id": "b7391c99d3179c6a"
  },
  {
   "cell_type": "code",
   "outputs": [],
   "source": [
    "# have a look at the feature distributions with a pairplot,\n",
    "# as it gives you a good overview over possible outliers\n",
    "# and a good overview over the data in general\n",
    "\n",
    "# pairplot for the full data\n",
    "sns.pairplot(df, hue=\"Diet\", diag_kind=\"hist\", diag_kws={\"multiple\" : \"stack\"});"
   ],
   "metadata": {
    "collapsed": false
   },
   "id": "7c30cab708b1d736"
  },
  {
   "cell_type": "code",
   "outputs": [],
   "source": [
    "# look at class-dependent pairplots\n",
    "df_grouped_by_class = df.groupby(by=\"Diet\")\n",
    "\n",
    "df_omnivore = df_grouped_by_class.get_group(\"Omnivore\")\n",
    "df_vegetarian = df_grouped_by_class.get_group(\"Vegetarian\")\n",
    "df_vegan = df_grouped_by_class.get_group(\"Vegan\")\n",
    "\n",
    "class_labels = {\n",
    "    \"Omnivore\" : {\n",
    "        \"color\" : \"blue\",\n",
    "        \"data\" : df_omnivore\n",
    "    },\n",
    "    \"Vegetarian\" : {\n",
    "        \"color\" : \"green\",\n",
    "        \"data\" : df_vegetarian\n",
    "    },\n",
    "    \"Vegan\" : {\n",
    "        \"color\" : \"red\",\n",
    "        \"data\" : df_vegan\n",
    "    }\n",
    "}\n",
    "\n",
    "for class_i in class_labels:\n",
    "    class_color = class_labels[class_i][\"color\"]\n",
    "    class_df = class_labels[class_i][\"data\"]\n",
    "    p = sns.pairplot(class_df, diag_kind=\"hist\", diag_kws={\"color\" : class_color}, plot_kws={\"color\" : class_color, \"label\" : class_i})\n",
    "    p.fig.suptitle(class_i, y=1.0, size=15)"
   ],
   "metadata": {
    "collapsed": false
   },
   "id": "a42cc9e7d23ecca8"
  },
  {
   "cell_type": "code",
   "outputs": [],
   "source": [
    "# We can also leverage the dataprep package to get a nice summary report\n",
    "report = sv.analyze(df)\n",
    "report.show_notebook()\n",
    "\n",
    "# We can also leverage the yadata_profiling package to get a nice summary report\n",
    "profile = ProfileReport(df, title=\"Diet Data - Summary Report\")\n",
    "profile"
   ],
   "metadata": {
    "collapsed": false
   },
   "id": "5a2f9ee9887dd41a"
  },
  {
   "cell_type": "markdown",
   "source": [
    "Random Forest Classifier"
   ],
   "metadata": {
    "collapsed": false
   },
   "id": "4e91c597d4762728"
  },
  {
   "cell_type": "code",
   "outputs": [],
   "source": [
    "# Step 1: Import necessary libraries\n",
    "from sklearn.model_selection import train_test_split\n",
    "from sklearn.ensemble import RandomForestClassifier\n",
    "from sklearn.metrics import accuracy_score, classification_report"
   ],
   "metadata": {
    "collapsed": false
   },
   "id": "9fde85567f30033"
  },
  {
   "cell_type": "code",
   "outputs": [],
   "source": [
    "# Step 2: Load cleaned data\n",
    "def load_cleaned_data():\n",
    "    # Replace this function with your data loading and cleaning logic\n",
    "    # Example assumes X contains features and y contains labels\n",
    "    data = pd.read_csv('merged_diet_requests.csv')\n",
    "    X = data.drop('target_column', axis=1)\n",
    "    y = data['target_column']\n",
    "    return X, y\n",
    "\n",
    "X, y = load_cleaned_data()\n"
   ],
   "metadata": {
    "collapsed": false
   },
   "id": "6be0585d8dd41ebe"
  }
 ],
 "metadata": {
  "kernelspec": {
   "display_name": "Python 3",
   "language": "python",
   "name": "python3"
  },
  "language_info": {
   "codemirror_mode": {
    "name": "ipython",
    "version": 2
   },
   "file_extension": ".py",
   "mimetype": "text/x-python",
   "name": "python",
   "nbconvert_exporter": "python",
   "pygments_lexer": "ipython2",
   "version": "2.7.6"
  }
 },
 "nbformat": 4,
 "nbformat_minor": 5
}
