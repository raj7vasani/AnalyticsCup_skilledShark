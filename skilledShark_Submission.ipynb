{
 "cells": [
  {
   "cell_type": "code",
   "outputs": [],
   "source": [
    "import pandas as pd\n",
    "import numpy as np\n",
    "\n",
    "import matplotlib.pyplot as plt\n",
    "import seaborn as sns\n",
    "\n",
    "# Note: The following do not work with Python 3.12\n",
    "import shap\n",
    "from ydata_profiling import ProfileReport\n",
    "import sweetviz as sv"
   ],
   "metadata": {
    "collapsed": false
   },
   "id": "3e7f6e1829d5e80"
  },
  {
   "cell_type": "markdown",
   "source": [
    "Reproducibility:"
   ],
   "metadata": {
    "collapsed": false
   },
   "id": "a2a5206a341a7e83"
  },
  {
   "cell_type": "code",
   "outputs": [],
   "source": [
    "seed = 2024\n",
    "\n",
    "# pandas, statsmodels, matplotlib and y_data_profiling rely on numpy's random generator, and thus, we need to set the seed in numpy\n",
    "np.random.seed(seed)"
   ],
   "metadata": {
    "collapsed": false
   },
   "id": "7968b2113b1b14b4"
  },
  {
   "cell_type": "code",
   "outputs": [],
   "source": [
    "diet = pd.read_csv('diet.csv', low_memory=False)\n",
    "requests = pd.read_csv('requests.csv', low_memory=False)\n",
    "reviews = pd.read_csv('reviews.csv', low_memory=False)\n",
    "reviews['Rating'].unique()"
   ],
   "metadata": {
    "collapsed": false
   },
   "id": "aec1aa9afa6cf53c"
  },
  {
   "cell_type": "markdown",
   "source": [
    "Changing the object data types"
   ],
   "metadata": {
    "collapsed": false
   },
   "id": "c85df0632a0a6ccf"
  },
  {
   "cell_type": "code",
   "outputs": [],
   "source": [
    "diet['Diet'] = diet['Diet'].astype('category')\n",
    "requests['HighProtein'] = requests['HighProtein'].astype('category')\n",
    "requests['LowSugar'] = requests['LowSugar'].astype('category')"
   ],
   "metadata": {
    "collapsed": false
   },
   "id": "3b78cc72df27259f"
  },
  {
   "cell_type": "markdown",
   "source": [
    "Data Joining using common attributes"
   ],
   "metadata": {
    "collapsed": false
   },
   "id": "b4d5b3ee5b2f3d37"
  },
  {
   "cell_type": "code",
   "outputs": [],
   "source": [
    "author_ID = 'AuthorId'\n",
    "merged_diet_requests = pd.merge(diet, requests, on=author_ID, how='left')\n",
    "merged_diet_requests"
   ],
   "metadata": {
    "collapsed": false
   },
   "id": "251f7817499f9cd"
  },
  {
   "cell_type": "code",
   "outputs": [],
   "source": [
    "merged_diet_requests.to_csv('merged_diet_requests.csv')"
   ],
   "metadata": {
    "collapsed": false
   },
   "id": "b6c89bfb21cea76e"
  },
  {
   "cell_type": "markdown",
   "source": [],
   "metadata": {
    "collapsed": false
   },
   "id": "eb9c2a7da253880c"
  },
  {
   "cell_type": "markdown",
   "source": [
    "Impute the missing values"
   ],
   "metadata": {
    "collapsed": false
   },
   "id": "41e0f84af7632b75"
  },
  {
   "cell_type": "code",
   "outputs": [],
   "source": [
    "merged_diet_requests['Diet'] = merged_diet_requests['Diet'].fillna('Vegetarian')\n",
    "merged_diet_requests_cleaned = merged_diet_requests.dropna(subset=['RecipeId'])\n",
    "merged_diet_requests_cleaned"
   ],
   "metadata": {
    "collapsed": false
   },
   "id": "d4cd244818a9754c"
  },
  {
   "cell_type": "markdown",
   "source": [
    "Merge the file with reviews column to include 'likes' column"
   ],
   "metadata": {
    "collapsed": false
   },
   "id": "33d7c9e5bdc05fb5"
  },
  {
   "cell_type": "code",
   "outputs": [],
   "source": [
    "merged_data = merged_diet_requests_cleaned.merge(reviews, how='inner', on='AuthorId')\n",
    "merged_data"
   ],
   "metadata": {
    "collapsed": false
   },
   "id": "66faf8c272fb4155"
  },
  {
   "cell_type": "markdown",
   "source": [
    "Data Visualization"
   ],
   "metadata": {
    "collapsed": false
   },
   "id": "e2d43b5f7d7094fd"
  },
  {
   "cell_type": "markdown",
   "source": [
    "Random Forest Classifier"
   ],
   "metadata": {
    "collapsed": false
   },
   "id": "e9b99f69f59e0911"
  },
  {
   "cell_type": "code",
   "outputs": [],
   "source": [
    "# Step 1: Import necessary libraries\n",
    "from sklearn.model_selection import train_test_split\n",
    "from sklearn.ensemble import RandomForestClassifier\n",
    "from sklearn.metrics import accuracy_score, classification_report"
   ],
   "metadata": {
    "collapsed": false
   },
   "id": "9fde85567f30033"
  },
  {
   "cell_type": "code",
   "outputs": [],
   "source": [
    "# Step 2: Load cleaned data\n",
    "def load_cleaned_data():\n",
    "    # Replace this function with your data loading and cleaning logic\n",
    "    # Example assumes X contains features and y contains labels\n",
    "    data = pd.read_csv('merged_diet_requests.csv')\n",
    "    X = data.drop('target_column', axis=1)\n",
    "    y = data['target_column']\n",
    "    return X, y\n",
    "\n",
    "X, y = load_cleaned_data()\n"
   ],
   "metadata": {
    "collapsed": false
   },
   "id": "6be0585d8dd41ebe"
  }
 ],
 "metadata": {
  "kernelspec": {
   "display_name": "Python 3",
   "language": "python",
   "name": "python3"
  },
  "language_info": {
   "codemirror_mode": {
    "name": "ipython",
    "version": 2
   },
   "file_extension": ".py",
   "mimetype": "text/x-python",
   "name": "python",
   "nbconvert_exporter": "python",
   "pygments_lexer": "ipython2",
   "version": "2.7.6"
  }
 },
 "nbformat": 4,
 "nbformat_minor": 5
}
